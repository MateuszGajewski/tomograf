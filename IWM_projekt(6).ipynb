
{
  "nbformat": 4,
  "nbformat_minor": 0,
  "metadata": {
    "colab": {
      "name": "IWM_projekt.ipynb",
      "provenance": [],
      "collapsed_sections": [],
      "toc_visible": true
    },
    "kernelspec": {
      "name": "python3",
      "display_name": "Python 3"
    },
    "language_info": {
      "name": "python"
    },
    "widgets": {
      "application/vnd.jupyter.widget-state+json": {
        "b889b97f407a43c8b959e749346646c1": {
          "model_module": "@jupyter-widgets/controls",
          "model_name": "FileUploadModel",
          "state": {
            "_view_name": "FileUploadView",
            "_counter": 0,
            "style": "IPY_MODEL_cbf4545408474151b3583f231ca8f4cf",
            "_dom_classes": [],
            "description": "Upload jpg or dcm file",
            "multiple": false,
            "_model_name": "FileUploadModel",
            "data": [],
            "button_style": "",
            "_view_module": "@jupyter-widgets/controls",
            "_model_module_version": "1.5.0",
            "accept": "",
            "_view_count": null,
            "disabled": false,
            "_view_module_version": "1.5.0",
            "error": "",
            "description_tooltip": null,
            "metadata": [],
            "_model_module": "@jupyter-widgets/controls",
            "layout": "IPY_MODEL_8a866f98bca04b36ba11abd8d4814034",
            "icon": "upload"
          }
        },
        "cbf4545408474151b3583f231ca8f4cf": {
          "model_module": "@jupyter-widgets/controls",
          "model_name": "ButtonStyleModel",
          "state": {
            "_view_name": "StyleView",
            "_model_name": "ButtonStyleModel",
            "_view_module": "@jupyter-widgets/base",
            "_model_module_version": "1.5.0",
            "_view_count": null,
            "button_color": null,
            "font_weight": "",
            "_view_module_version": "1.2.0",
            "_model_module": "@jupyter-widgets/controls"
          }
        },
        "8a866f98bca04b36ba11abd8d4814034": {
          "model_module": "@jupyter-widgets/base",
          "model_name": "LayoutModel",
          "state": {
            "_view_name": "LayoutView",
            "grid_template_rows": null,
            "right": null,
            "justify_content": null,
            "_view_module": "@jupyter-widgets/base",
            "overflow": null,
            "_model_module_version": "1.2.0",
            "_view_count": null,
            "flex_flow": null,
            "width": null,
            "min_width": null,
            "border": null,
            "align_items": null,
            "bottom": null,
            "_model_module": "@jupyter-widgets/base",
            "top": null,
            "grid_column": null,
            "overflow_y": null,
            "overflow_x": null,
            "grid_auto_flow": null,
            "grid_area": null,
            "grid_template_columns": null,
            "flex": null,
            "_model_name": "LayoutModel",
            "justify_items": null,
            "grid_row": null,
            "max_height": null,
            "align_content": null,
            "visibility": null,
            "align_self": null,
            "height": null,
            "min_height": null,
            "padding": null,
            "grid_auto_rows": null,
            "grid_gap": null,
            "max_width": null,
            "order": null,
            "_view_module_version": "1.2.0",
            "grid_template_areas": null,
            "object_position": null,
            "object_fit": null,
            "grid_auto_columns": null,
            "margin": null,
            "display": null,
            "left": null
          }
        },
        "0dd839245e184c3a951beadbbec72d20": {
          "model_module": "@jupyter-widgets/controls",
          "model_name": "CheckboxModel",
          "state": {
            "_view_name": "CheckboxView",
            "style": "IPY_MODEL_21be1c487cf54de1a3e6c7937ca204e9",
            "_dom_classes": [],
            "description": "Filtrowanie odwrotnej transformaty",
            "_model_name": "CheckboxModel",
            "_view_module": "@jupyter-widgets/controls",
            "_model_module_version": "1.5.0",
            "value": false,
            "_view_count": null,
            "disabled": false,
            "_view_module_version": "1.5.0",
            "indent": false,
            "description_tooltip": null,
            "_model_module": "@jupyter-widgets/controls",
            "layout": "IPY_MODEL_4b49c4d3bc8e4b70b14aca57d812d80e"
          }
        },
        "21be1c487cf54de1a3e6c7937ca204e9": {
          "model_module": "@jupyter-widgets/controls",
          "model_name": "DescriptionStyleModel",
          "state": {
            "_view_name": "StyleView",
            "_model_name": "DescriptionStyleModel",
            "description_width": "",
            "_view_module": "@jupyter-widgets/base",
            "_model_module_version": "1.5.0",
            "_view_count": null,
            "_view_module_version": "1.2.0",
            "_model_module": "@jupyter-widgets/controls"
          }
        },
        "4b49c4d3bc8e4b70b14aca57d812d80e": {
          "model_module": "@jupyter-widgets/base",
          "model_name": "LayoutModel",
          "state": {
            "_view_name": "LayoutView",
            "grid_template_rows": null,
            "right": null,
            "justify_content": null,
            "_view_module": "@jupyter-widgets/base",
            "overflow": null,
            "_model_module_version": "1.2.0",
            "_view_count": null,
            "flex_flow": null,
            "width": null,
            "min_width": null,
            "border": null,
            "align_items": null,
            "bottom": null,
            "_model_module": "@jupyter-widgets/base",
            "top": null,
            "grid_column": null,
            "overflow_y": null,
            "overflow_x": null,
            "grid_auto_flow": null,
            "grid_area": null,
            "grid_template_columns": null,
            "flex": null,
            "_model_name": "LayoutModel",
            "justify_items": null,
            "grid_row": null,
            "max_height": null,
            "align_content": null,
            "visibility": null,
            "align_self": null,
            "height": null,
            "min_height": null,
            "padding": null,
            "grid_auto_rows": null,
            "grid_gap": null,
            "max_width": null,
            "order": null,
            "_view_module_version": "1.2.0",
            "grid_template_areas": null,
            "object_position": null,
            "object_fit": null,
            "grid_auto_columns": null,
            "margin": null,
            "display": null,
            "left": null
          }
        },
        "d60d316bfd3f4dfaab55e302a1033388": {
          "model_module": "@jupyter-widgets/controls",
          "model_name": "CheckboxModel",
          "state": {
            "_view_name": "CheckboxView",
            "style": "IPY_MODEL_ccea9aef302d4bf4923319489f1a0c4d",
            "_dom_classes": [],
            "description": "Pokazywnie kroków",
            "_model_name": "CheckboxModel",
            "_view_module": "@jupyter-widgets/controls",
            "_model_module_version": "1.5.0",
            "value": false,
            "_view_count": null,
            "disabled": false,
            "_view_module_version": "1.5.0",
            "indent": false,
            "description_tooltip": null,
            "_model_module": "@jupyter-widgets/controls",
            "layout": "IPY_MODEL_dd5e55afd5774b29958991199d8e29fb"
          }
        },
        "ccea9aef302d4bf4923319489f1a0c4d": {
          "model_module": "@jupyter-widgets/controls",
          "model_name": "DescriptionStyleModel",
          "state": {
            "_view_name": "StyleView",
            "_model_name": "DescriptionStyleModel",
            "description_width": "",
            "_view_module": "@jupyter-widgets/base",
            "_model_module_version": "1.5.0",
            "_view_count": null,
            "_view_module_version": "1.2.0",
            "_model_module": "@jupyter-widgets/controls"
          }
        },
        "dd5e55afd5774b29958991199d8e29fb": {
          "model_module": "@jupyter-widgets/base",
          "model_name": "LayoutModel",
          "state": {
            "_view_name": "LayoutView",
            "grid_template_rows": null,
            "right": null,
            "justify_content": null,
            "_view_module": "@jupyter-widgets/base",
            "overflow": null,
            "_model_module_version": "1.2.0",
            "_view_count": null,
            "flex_flow": null,
            "width": null,
            "min_width": null,
            "border": null,
            "align_items": null,
            "bottom": null,
            "_model_module": "@jupyter-widgets/base",
            "top": null,
            "grid_column": null,
            "overflow_y": null,
            "overflow_x": null,
            "grid_auto_flow": null,
            "grid_area": null,
            "grid_template_columns": null,
            "flex": null,
            "_model_name": "LayoutModel",
            "justify_items": null,
            "grid_row": null,
            "max_height": null,
            "align_content": null,
            "visibility": null,
            "align_self": null,
            "height": null,
            "min_height": null,
            "padding": null,
            "grid_auto_rows": null,
            "grid_gap": null,
            "max_width": null,
            "order": null,
            "_view_module_version": "1.2.0",
            "grid_template_areas": null,
            "object_position": null,
            "object_fit": null,
            "grid_auto_columns": null,
            "margin": null,
            "display": null,
            "left": null
          }
        },
        "7909bfb910dd4905b8c547f822732d4d": {
          "model_module": "@jupyter-widgets/controls",
          "model_name": "TextareaModel",
          "state": {
            "_view_name": "TextareaView",
            "style": "IPY_MODEL_4ae2d63efaf74e739c6e839fb25ca4f5",
            "rows": null,
            "_dom_classes": [],
            "description": "Krok detektora:",
            "_model_name": "TextareaModel",
            "placeholder": "​",
            "_view_module": "@jupyter-widgets/controls",
            "_model_module_version": "1.5.0",
            "value": "1",
            "_view_count": null,
            "disabled": false,
            "_view_module_version": "1.5.0",
            "continuous_update": true,
            "description_tooltip": null,
            "_model_module": "@jupyter-widgets/controls",
            "layout": "IPY_MODEL_1db06547e5e94dc5b86dfd3f57e88cce"
          }
        },
        "4ae2d63efaf74e739c6e839fb25ca4f5": {
          "model_module": "@jupyter-widgets/controls",
          "model_name": "DescriptionStyleModel",
          "state": {
            "_view_name": "StyleView",
            "_model_name": "DescriptionStyleModel",
            "description_width": "initial",
            "_view_module": "@jupyter-widgets/base",
            "_model_module_version": "1.5.0",
            "_view_count": null,
            "_view_module_version": "1.2.0",
            "_model_module": "@jupyter-widgets/controls"
          }
        },
        "1db06547e5e94dc5b86dfd3f57e88cce": {
          "model_module": "@jupyter-widgets/base",
          "model_name": "LayoutModel",
          "state": {
            "_view_name": "LayoutView",
            "grid_template_rows": null,
            "right": null,
            "justify_content": null,
            "_view_module": "@jupyter-widgets/base",
            "overflow": null,
            "_model_module_version": "1.2.0",
            "_view_count": null,
            "flex_flow": null,
            "width": null,
            "min_width": null,
            "border": null,
            "align_items": null,
            "bottom": null,
            "_model_module": "@jupyter-widgets/base",
            "top": null,
            "grid_column": null,
            "overflow_y": null,
            "overflow_x": null,
            "grid_auto_flow": null,
            "grid_area": null,
            "grid_template_columns": null,
            "flex": null,
            "_model_name": "LayoutModel",
            "justify_items": null,
            "grid_row": null,
            "max_height": null,
            "align_content": null,
            "visibility": null,
            "align_self": null,
            "height": null,
            "min_height": null,
            "padding": null,
            "grid_auto_rows": null,
            "grid_gap": null,
            "max_width": null,
            "order": null,
            "_view_module_version": "1.2.0",
            "grid_template_areas": null,
            "object_position": null,
            "object_fit": null,
            "grid_auto_columns": null,
            "margin": null,
            "display": null,
            "left": null
          }
        },
        "6fab7225a6684e9ab2a555e8b78c1ea8": {
          "model_module": "@jupyter-widgets/controls",
          "model_name": "TextareaModel",
          "state": {
            "_view_name": "TextareaView",
            "style": "IPY_MODEL_dc249a5bd161465fa0e49564f8bce736",
            "rows": null,
            "_dom_classes": [],
            "description": "Rozpietosc katowa:",
            "_model_name": "TextareaModel",
            "placeholder": "​",
            "_view_module": "@jupyter-widgets/controls",
            "_model_module_version": "1.5.0",
            "value": "180",
            "_view_count": null,
            "disabled": false,
            "_view_module_version": "1.5.0",
            "continuous_update": true,
            "description_tooltip": null,
            "_model_module": "@jupyter-widgets/controls",
            "layout": "IPY_MODEL_91142cc33f874cf08440e4153e448653"
          }
        },
        "dc249a5bd161465fa0e49564f8bce736": {
          "model_module": "@jupyter-widgets/controls",
          "model_name": "DescriptionStyleModel",
          "state": {
            "_view_name": "StyleView",
            "_model_name": "DescriptionStyleModel",
            "description_width": "initial",
            "_view_module": "@jupyter-widgets/base",
            "_model_module_version": "1.5.0",
            "_view_count": null,
            "_view_module_version": "1.2.0",
            "_model_module": "@jupyter-widgets/controls"
          }
        },
        "91142cc33f874cf08440e4153e448653": {
          "model_module": "@jupyter-widgets/base",
          "model_name": "LayoutModel",
          "state": {
            "_view_name": "LayoutView",
            "grid_template_rows": null,
            "right": null,
            "justify_content": null,
            "_view_module": "@jupyter-widgets/base",
            "overflow": null,
            "_model_module_version": "1.2.0",
            "_view_count": null,
            "flex_flow": null,
            "width": null,
            "min_width": null,
            "border": null,
            "align_items": null,
            "bottom": null,
            "_model_module": "@jupyter-widgets/base",
            "top": null,
            "grid_column": null,
            "overflow_y": null,
            "overflow_x": null,
            "grid_auto_flow": null,
            "grid_area": null,
            "grid_template_columns": null,
            "flex": null,
            "_model_name": "LayoutModel",
            "justify_items": null,
            "grid_row": null,
            "max_height": null,
            "align_content": null,
            "visibility": null,
            "align_self": null,
            "height": null,
            "min_height": null,
            "padding": null,
            "grid_auto_rows": null,
            "grid_gap": null,
            "max_width": null,
            "order": null,
            "_view_module_version": "1.2.0",
            "grid_template_areas": null,
            "object_position": null,
            "object_fit": null,
            "grid_auto_columns": null,
            "margin": null,
            "display": null,
            "left": null
          }
        },
        "58d80321dc3a4eb0bd7ac99c6066095e": {
          "model_module": "@jupyter-widgets/controls",
          "model_name": "TextareaModel",
          "state": {
            "_view_name": "TextareaView",
            "style": "IPY_MODEL_ee2d754142744bb39c7f94710a6ad54f",
            "rows": null,
            "_dom_classes": [],
            "description": "Ilość detektorów:",
            "_model_name": "TextareaModel",
            "placeholder": "​",
            "_view_module": "@jupyter-widgets/controls",
            "_model_module_version": "1.5.0",
            "value": "180",
            "_view_count": null,
            "disabled": false,
            "_view_module_version": "1.5.0",
            "continuous_update": true,
            "description_tooltip": null,
            "_model_module": "@jupyter-widgets/controls",
            "layout": "IPY_MODEL_b0653d6ea8ae4153916b01302efd694d"
          }
        },
        "ee2d754142744bb39c7f94710a6ad54f": {
          "model_module": "@jupyter-widgets/controls",
          "model_name": "DescriptionStyleModel",
          "state": {
            "_view_name": "StyleView",
            "_model_name": "DescriptionStyleModel",
            "description_width": "initial",
            "_view_module": "@jupyter-widgets/base",
            "_model_module_version": "1.5.0",
            "_view_count": null,
            "_view_module_version": "1.2.0",
            "_model_module": "@jupyter-widgets/controls"
          }
        },
        "b0653d6ea8ae4153916b01302efd694d": {
          "model_module": "@jupyter-widgets/base",
          "model_name": "LayoutModel",
          "state": {
            "_view_name": "LayoutView",
            "grid_template_rows": null,
            "right": null,
            "justify_content": null,
            "_view_module": "@jupyter-widgets/base",
            "overflow": null,
            "_model_module_version": "1.2.0",
            "_view_count": null,
            "flex_flow": null,
            "width": null,
            "min_width": null,
            "border": null,
            "align_items": null,
            "bottom": null,
            "_model_module": "@jupyter-widgets/base",
            "top": null,
            "grid_column": null,
            "overflow_y": null,
            "overflow_x": null,
            "grid_auto_flow": null,
            "grid_area": null,
            "grid_template_columns": null,
            "flex": null,
            "_model_name": "LayoutModel",
            "justify_items": null,
            "grid_row": null,
            "max_height": null,
            "align_content": null,
            "visibility": null,
            "align_self": null,
            "height": null,
            "min_height": null,
            "padding": null,
            "grid_auto_rows": null,
            "grid_gap": null,
            "max_width": null,
            "order": null,
            "_view_module_version": "1.2.0",
            "grid_template_areas": null,
            "object_position": null,
            "object_fit": null,
            "grid_auto_columns": null,
            "margin": null,
            "display": null,
            "left": null
          }
        },
        "70b3d1b7c2224dfa836f560e440d92d5": {
          "model_module": "@jupyter-widgets/controls",
          "model_name": "ButtonModel",
          "state": {
            "_view_name": "ButtonView",
            "style": "IPY_MODEL_d5647856bca54aa693e63bdbaaba70d4",
            "_dom_classes": [],
            "description": "Rozpocznij",
            "_model_name": "ButtonModel",
            "button_style": "",
            "_view_module": "@jupyter-widgets/controls",
            "_model_module_version": "1.5.0",
            "tooltip": "",
            "_view_count": null,
            "disabled": false,
            "_view_module_version": "1.5.0",
            "layout": "IPY_MODEL_36c3ee2d633c43e6ab890c77faf7f14b",
            "_model_module": "@jupyter-widgets/controls",
            "icon": ""
          }
        },
        "d5647856bca54aa693e63bdbaaba70d4": {
          "model_module": "@jupyter-widgets/controls",
          "model_name": "ButtonStyleModel",
          "state": {
            "_view_name": "StyleView",
            "_model_name": "ButtonStyleModel",
            "_view_module": "@jupyter-widgets/base",
            "_model_module_version": "1.5.0",
            "_view_count": null,
            "button_color": null,
            "font_weight": "",
            "_view_module_version": "1.2.0",
            "_model_module": "@jupyter-widgets/controls"
          }
        },
        "36c3ee2d633c43e6ab890c77faf7f14b": {
          "model_module": "@jupyter-widgets/base",
          "model_name": "LayoutModel",
          "state": {
            "_view_name": "LayoutView",
            "grid_template_rows": null,
            "right": null,
            "justify_content": null,
            "_view_module": "@jupyter-widgets/base",
            "overflow": null,
            "_model_module_version": "1.2.0",
            "_view_count": null,
            "flex_flow": null,
            "width": null,
            "min_width": null,
            "border": null,
            "align_items": null,
            "bottom": null,
            "_model_module": "@jupyter-widgets/base",
            "top": null,
            "grid_column": null,
            "overflow_y": null,
            "overflow_x": null,
            "grid_auto_flow": null,
            "grid_area": null,
            "grid_template_columns": null,
            "flex": null,
            "_model_name": "LayoutModel",
            "justify_items": null,
            "grid_row": null,
            "max_height": null,
            "align_content": null,
            "visibility": null,
            "align_self": null,
            "height": null,
            "min_height": null,
            "padding": null,
            "grid_auto_rows": null,
            "grid_gap": null,
            "max_width": null,
            "order": null,
            "_view_module_version": "1.2.0",
            "grid_template_areas": null,
            "object_position": null,
            "object_fit": null,
            "grid_auto_columns": null,
            "margin": null,
            "display": null,
            "left": null
          }
        },
        "4f78235e04114a4e8249b8fa95f63d00": {
          "model_module": "@jupyter-widgets/output",
          "model_name": "OutputModel",
          "state": {
            "_view_name": "OutputView",
            "msg_id": "",
            "_dom_classes": [],
            "_model_name": "OutputModel",
            "outputs": [],
            "_view_module": "@jupyter-widgets/output",
            "_model_module_version": "1.0.0",
            "_view_count": null,
            "_view_module_version": "1.0.0",
            "layout": "IPY_MODEL_ca054c7a913246ac96ab3a88bf80f4f9",
            "_model_module": "@jupyter-widgets/output"
          }
        },
        "ca054c7a913246ac96ab3a88bf80f4f9": {
          "model_module": "@jupyter-widgets/base",
          "model_name": "LayoutModel",
          "state": {
            "_view_name": "LayoutView",
            "grid_template_rows": null,
            "right": null,
            "justify_content": null,
            "_view_module": "@jupyter-widgets/base",
            "overflow": null,
            "_model_module_version": "1.2.0",
            "_view_count": null,
            "flex_flow": null,
            "width": null,
            "min_width": null,
            "border": null,
            "align_items": null,
            "bottom": null,
            "_model_module": "@jupyter-widgets/base",
            "top": null,
            "grid_column": null,
            "overflow_y": null,
            "overflow_x": null,
            "grid_auto_flow": null,
            "grid_area": null,
            "grid_template_columns": null,
            "flex": null,
            "_model_name": "LayoutModel",
            "justify_items": null,
            "grid_row": null,
            "max_height": null,
            "align_content": null,
            "visibility": null,
            "align_self": null,
            "height": null,
            "min_height": null,
            "padding": null,
            "grid_auto_rows": null,
            "grid_gap": null,
            "max_width": null,
            "order": null,
            "_view_module_version": "1.2.0",
            "grid_template_areas": null,
            "object_position": null,
            "object_fit": null,
            "grid_auto_columns": null,
            "margin": null,
            "display": null,
            "left": null
          }
        },
        "f3c8b0795140438988d8cca602131bb9": {
          "model_module": "@jupyter-widgets/output",
          "model_name": "OutputModel",
          "state": {
            "_view_name": "OutputView",
            "msg_id": "",
            "_dom_classes": [],
            "_model_name": "OutputModel",
            "outputs": [],
            "_view_module": "@jupyter-widgets/output",
            "_model_module_version": "1.0.0",
            "_view_count": null,
            "_view_module_version": "1.0.0",
            "layout": "IPY_MODEL_6334241e36854db6a33e469528e3c7ca",
            "_model_module": "@jupyter-widgets/output"
          }
        },
        "6334241e36854db6a33e469528e3c7ca": {
          "model_module": "@jupyter-widgets/base",
          "model_name": "LayoutModel",
          "state": {
            "_view_name": "LayoutView",
            "grid_template_rows": null,
            "right": null,
            "justify_content": null,
            "_view_module": "@jupyter-widgets/base",
            "overflow": null,
            "_model_module_version": "1.2.0",
            "_view_count": null,
            "flex_flow": null,
            "width": null,
            "min_width": null,
            "border": null,
            "align_items": null,
            "bottom": null,
            "_model_module": "@jupyter-widgets/base",
            "top": null,
            "grid_column": null,
            "overflow_y": null,
            "overflow_x": null,
            "grid_auto_flow": null,
            "grid_area": null,
            "grid_template_columns": null,
            "flex": null,
            "_model_name": "LayoutModel",
            "justify_items": null,
            "grid_row": null,
            "max_height": null,
            "align_content": null,
            "visibility": null,
            "align_self": null,
            "height": null,
            "min_height": null,
            "padding": null,
            "grid_auto_rows": null,
            "grid_gap": null,
            "max_width": null,
            "order": null,
            "_view_module_version": "1.2.0",
            "grid_template_areas": null,
            "object_position": null,
            "object_fit": null,
            "grid_auto_columns": null,
            "margin": null,
            "display": null,
            "left": null
          }
        },
        "e80487fba9974b8faecbca1ce93daf9e": {
          "model_module": "@jupyter-widgets/controls",
          "model_name": "ButtonModel",
          "state": {
            "_view_name": "ButtonView",
            "style": "IPY_MODEL_aae0fc39a4e545fb8953d056ae813905",
            "_dom_classes": [],
            "description": "Click to Read",
            "_model_name": "ButtonModel",
            "button_style": "",
            "_view_module": "@jupyter-widgets/controls",
            "_model_module_version": "1.5.0",
            "tooltip": "",
            "_view_count": null,
            "disabled": false,
            "_view_module_version": "1.5.0",
            "layout": "IPY_MODEL_ab81addf43ad4d68852ee2ec29db22f8",
            "_model_module": "@jupyter-widgets/controls",
            "icon": ""
          }
        },
        "aae0fc39a4e545fb8953d056ae813905": {
          "model_module": "@jupyter-widgets/controls",
          "model_name": "ButtonStyleModel",
          "state": {
            "_view_name": "StyleView",
            "_model_name": "ButtonStyleModel",
            "_view_module": "@jupyter-widgets/base",
            "_model_module_version": "1.5.0",
            "_view_count": null,
            "button_color": null,
            "font_weight": "",
            "_view_module_version": "1.2.0",
            "_model_module": "@jupyter-widgets/controls"
          }
        },
        "ab81addf43ad4d68852ee2ec29db22f8": {
          "model_module": "@jupyter-widgets/base",
          "model_name": "LayoutModel",
          "state": {
            "_view_name": "LayoutView",
            "grid_template_rows": null,
            "right": null,
            "justify_content": null,
            "_view_module": "@jupyter-widgets/base",
            "overflow": null,
            "_model_module_version": "1.2.0",
            "_view_count": null,
            "flex_flow": null,
            "width": null,
            "min_width": null,
            "border": null,
            "align_items": null,
            "bottom": null,
            "_model_module": "@jupyter-widgets/base",
            "top": null,
            "grid_column": null,
            "overflow_y": null,
            "overflow_x": null,
            "grid_auto_flow": null,
            "grid_area": null,
            "grid_template_columns": null,
            "flex": null,
            "_model_name": "LayoutModel",
            "justify_items": null,
            "grid_row": null,
            "max_height": null,
            "align_content": null,
            "visibility": null,
            "align_self": null,
            "height": null,
            "min_height": null,
            "padding": null,
            "grid_auto_rows": null,
            "grid_gap": null,
            "max_width": null,
            "order": null,
            "_view_module_version": "1.2.0",
            "grid_template_areas": null,
            "object_position": null,
            "object_fit": null,
            "grid_auto_columns": null,
            "margin": null,
            "display": null,
            "left": null
          }
        },
        "ae99d1e6c9e14cf7b16f8b148824933a": {
          "model_module": "@jupyter-widgets/output",
          "model_name": "OutputModel",
          "state": {
            "_view_name": "OutputView",
            "msg_id": "",
            "_dom_classes": [],
            "_model_name": "OutputModel",
            "outputs": [],
            "_view_module": "@jupyter-widgets/output",
            "_model_module_version": "1.0.0",
            "_view_count": null,
            "_view_module_version": "1.0.0",
            "layout": "IPY_MODEL_c97e98b745754b1d9423e20597c0e0ad",
            "_model_module": "@jupyter-widgets/output"
          }
        },
        "c97e98b745754b1d9423e20597c0e0ad": {
          "model_module": "@jupyter-widgets/base",
          "model_name": "LayoutModel",
          "state": {
            "_view_name": "LayoutView",
            "grid_template_rows": null,
            "right": null,
            "justify_content": null,
            "_view_module": "@jupyter-widgets/base",
            "overflow": null,
            "_model_module_version": "1.2.0",
            "_view_count": null,
            "flex_flow": null,
            "width": null,
            "min_width": null,
            "border": null,
            "align_items": null,
            "bottom": null,
            "_model_module": "@jupyter-widgets/base",
            "top": null,
            "grid_column": null,
            "overflow_y": null,
            "overflow_x": null,
            "grid_auto_flow": null,
            "grid_area": null,
            "grid_template_columns": null,
            "flex": null,
            "_model_name": "LayoutModel",
            "justify_items": null,
            "grid_row": null,
            "max_height": null,
            "align_content": null,
            "visibility": null,
            "align_self": null,
            "height": null,
            "min_height": null,
            "padding": null,
            "grid_auto_rows": null,
            "grid_gap": null,
            "max_width": null,
            "order": null,
            "_view_module_version": "1.2.0",
            "grid_template_areas": null,
            "object_position": null,
            "object_fit": null,
            "grid_auto_columns": null,
            "margin": null,
            "display": null,
            "left": null
          }
        },
        "7951f18993724030ad0ab0330ef9c965": {
          "model_module": "@jupyter-widgets/controls",
          "model_name": "TextareaModel",
          "state": {
            "_view_name": "TextareaView",
            "style": "IPY_MODEL_ed0cf653d91b45a0bbdb7310ce239a53",
            "rows": null,
            "_dom_classes": [],
            "description": "Nazwa pliku:",
            "_model_name": "TextareaModel",
            "placeholder": "Wpisz nazwe pliku",
            "_view_module": "@jupyter-widgets/controls",
            "_model_module_version": "1.5.0",
            "value": "Kwadraty2.dcm",
            "_view_count": null,
            "disabled": false,
            "_view_module_version": "1.5.0",
            "continuous_update": true,
            "description_tooltip": null,
            "_model_module": "@jupyter-widgets/controls",
            "layout": "IPY_MODEL_21a08ecef90b42f8b09b39845471678c"
          }
        },
        "ed0cf653d91b45a0bbdb7310ce239a53": {
          "model_module": "@jupyter-widgets/controls",
          "model_name": "DescriptionStyleModel",
          "state": {
            "_view_name": "StyleView",
            "_model_name": "DescriptionStyleModel",
            "description_width": "initial",
            "_view_module": "@jupyter-widgets/base",
            "_model_module_version": "1.5.0",
            "_view_count": null,
            "_view_module_version": "1.2.0",
            "_model_module": "@jupyter-widgets/controls"
          }
        },
        "21a08ecef90b42f8b09b39845471678c": {
          "model_module": "@jupyter-widgets/base",
          "model_name": "LayoutModel",
          "state": {
            "_view_name": "LayoutView",
            "grid_template_rows": null,
            "right": null,
            "justify_content": null,
            "_view_module": "@jupyter-widgets/base",
            "overflow": null,
            "_model_module_version": "1.2.0",
            "_view_count": null,
            "flex_flow": null,
            "width": null,
            "min_width": null,
            "border": null,
            "align_items": null,
            "bottom": null,
            "_model_module": "@jupyter-widgets/base",
            "top": null,
            "grid_column": null,
            "overflow_y": null,
            "overflow_x": null,
            "grid_auto_flow": null,
            "grid_area": null,
            "grid_template_columns": null,
            "flex": null,
            "_model_name": "LayoutModel",
            "justify_items": null,
            "grid_row": null,
            "max_height": null,
            "align_content": null,
            "visibility": null,
            "align_self": null,
            "height": null,
            "min_height": null,
            "padding": null,
            "grid_auto_rows": null,
            "grid_gap": null,
            "max_width": null,
            "order": null,
            "_view_module_version": "1.2.0",
            "grid_template_areas": null,
            "object_position": null,
            "object_fit": null,
            "grid_auto_columns": null,
            "margin": null,
            "display": null,
            "left": null
          }
        },
        "2bf6bc2eb18f47e0bf1970ad74db9745": {
          "model_module": "@jupyter-widgets/controls",
          "model_name": "TextareaModel",
          "state": {
            "_view_name": "TextareaView",
            "style": "IPY_MODEL_1467998d0b494832b4dc3c70160ce265",
            "rows": null,
            "_dom_classes": [],
            "description": "ID:",
            "_model_name": "TextareaModel",
            "placeholder": "Wpisz ID pacjenta",
            "_view_module": "@jupyter-widgets/controls",
            "_model_module_version": "1.5.0",
            "value": "42",
            "_view_count": null,
            "disabled": false,
            "_view_module_version": "1.5.0",
            "continuous_update": true,
            "description_tooltip": null,
            "_model_module": "@jupyter-widgets/controls",
            "layout": "IPY_MODEL_ebbf9982ed6e496aa88e774c99c47cdb"
          }
        },
        "1467998d0b494832b4dc3c70160ce265": {
          "model_module": "@jupyter-widgets/controls",
          "model_name": "DescriptionStyleModel",
          "state": {
            "_view_name": "StyleView",
            "_model_name": "DescriptionStyleModel",
            "description_width": "initial",
            "_view_module": "@jupyter-widgets/base",
            "_model_module_version": "1.5.0",
            "_view_count": null,
            "_view_module_version": "1.2.0",
            "_model_module": "@jupyter-widgets/controls"
          }
        },
        "ebbf9982ed6e496aa88e774c99c47cdb": {
          "model_module": "@jupyter-widgets/base",
          "model_name": "LayoutModel",
          "state": {
            "_view_name": "LayoutView",
            "grid_template_rows": null,
            "right": null,
            "justify_content": null,
            "_view_module": "@jupyter-widgets/base",
            "overflow": null,
            "_model_module_version": "1.2.0",
            "_view_count": null,
            "flex_flow": null,
            "width": null,
            "min_width": null,
            "border": null,
            "align_items": null,
            "bottom": null,
            "_model_module": "@jupyter-widgets/base",
            "top": null,
            "grid_column": null,
            "overflow_y": null,
            "overflow_x": null,
            "grid_auto_flow": null,
            "grid_area": null,
            "grid_template_columns": null,
            "flex": null,
            "_model_name": "LayoutModel",
            "justify_items": null,
            "grid_row": null,
            "max_height": null,
            "align_content": null,
            "visibility": null,
            "align_self": null,
            "height": null,
            "min_height": null,
            "padding": null,
            "grid_auto_rows": null,
            "grid_gap": null,
            "max_width": null,
            "order": null,
            "_view_module_version": "1.2.0",
            "grid_template_areas": null,
            "object_position": null,
            "object_fit": null,
            "grid_auto_columns": null,
            "margin": null,
            "display": null,
            "left": null
          }
        },
        "735865b42e50445898b257d01ade4bde": {
          "model_module": "@jupyter-widgets/controls",
          "model_name": "TextareaModel",
          "state": {
            "_view_name": "TextareaView",
            "style": "IPY_MODEL_4342c772ab8342e4bac43d1fd18a3f4a",
            "rows": null,
            "_dom_classes": [],
            "description": "Imię:",
            "_model_name": "TextareaModel",
            "placeholder": "Wpisz imię",
            "_view_module": "@jupyter-widgets/controls",
            "_model_module_version": "1.5.0",
            "value": "John",
            "_view_count": null,
            "disabled": false,
            "_view_module_version": "1.5.0",
            "continuous_update": true,
            "description_tooltip": null,
            "_model_module": "@jupyter-widgets/controls",
            "layout": "IPY_MODEL_2f793626d6c84bf681a7dabbee89b4c0"
          }
        },
        "4342c772ab8342e4bac43d1fd18a3f4a": {
          "model_module": "@jupyter-widgets/controls",
          "model_name": "DescriptionStyleModel",
          "state": {
            "_view_name": "StyleView",
            "_model_name": "DescriptionStyleModel",
            "description_width": "initial",
            "_view_module": "@jupyter-widgets/base",
            "_model_module_version": "1.5.0",
            "_view_count": null,
            "_view_module_version": "1.2.0",
            "_model_module": "@jupyter-widgets/controls"
          }
        },
        "2f793626d6c84bf681a7dabbee89b4c0": {
          "model_module": "@jupyter-widgets/base",
          "model_name": "LayoutModel",
          "state": {
            "_view_name": "LayoutView",
            "grid_template_rows": null,
            "right": null,
            "justify_content": null,
            "_view_module": "@jupyter-widgets/base",
            "overflow": null,
            "_model_module_version": "1.2.0",
            "_view_count": null,
            "flex_flow": null,
            "width": null,
            "min_width": null,
            "border": null,
            "align_items": null,
            "bottom": null,
            "_model_module": "@jupyter-widgets/base",
            "top": null,
            "grid_column": null,
            "overflow_y": null,
            "overflow_x": null,
            "grid_auto_flow": null,
            "grid_area": null,
            "grid_template_columns": null,
            "flex": null,
            "_model_name": "LayoutModel",
            "justify_items": null,
            "grid_row": null,
            "max_height": null,
            "align_content": null,
            "visibility": null,
            "align_self": null,
            "height": null,
            "min_height": null,
            "padding": null,
            "grid_auto_rows": null,
            "grid_gap": null,
            "max_width": null,
            "order": null,
            "_view_module_version": "1.2.0",
            "grid_template_areas": null,
            "object_position": null,
            "object_fit": null,
            "grid_auto_columns": null,
            "margin": null,
            "display": null,
            "left": null
          }
        },
        "32633aafb94c48dc883c92ff3262644f": {
          "model_module": "@jupyter-widgets/controls",
          "model_name": "TextareaModel",
          "state": {
            "_view_name": "TextareaView",
            "style": "IPY_MODEL_897f0a10db044b7f9dd5d8f94cb58d43",
            "rows": null,
            "_dom_classes": [],
            "description": "Nazwisko:",
            "_model_name": "TextareaModel",
            "placeholder": "Wpisz nazwisko",
            "_view_module": "@jupyter-widgets/controls",
            "_model_module_version": "1.5.0",
            "value": "Doe",
            "_view_count": null,
            "disabled": false,
            "_view_module_version": "1.5.0",
            "continuous_update": true,
            "description_tooltip": null,
            "_model_module": "@jupyter-widgets/controls",
            "layout": "IPY_MODEL_6f9ddfef28f84c22aa6be1f15d2b96b9"
          }
        },
        "897f0a10db044b7f9dd5d8f94cb58d43": {
          "model_module": "@jupyter-widgets/controls",
          "model_name": "DescriptionStyleModel",
          "state": {
            "_view_name": "StyleView",
            "_model_name": "DescriptionStyleModel",
            "description_width": "initial",
            "_view_module": "@jupyter-widgets/base",
            "_model_module_version": "1.5.0",
            "_view_count": null,
            "_view_module_version": "1.2.0",
            "_model_module": "@jupyter-widgets/controls"
          }
        },
        "6f9ddfef28f84c22aa6be1f15d2b96b9": {
          "model_module": "@jupyter-widgets/base",
          "model_name": "LayoutModel",
          "state": {
            "_view_name": "LayoutView",
            "grid_template_rows": null,
            "right": null,
            "justify_content": null,
            "_view_module": "@jupyter-widgets/base",
            "overflow": null,
            "_model_module_version": "1.2.0",
            "_view_count": null,
            "flex_flow": null,
            "width": null,
            "min_width": null,
            "border": null,
            "align_items": null,
            "bottom": null,
            "_model_module": "@jupyter-widgets/base",
            "top": null,
            "grid_column": null,
            "overflow_y": null,
            "overflow_x": null,
            "grid_auto_flow": null,
            "grid_area": null,
            "grid_template_columns": null,
            "flex": null,
            "_model_name": "LayoutModel",
            "justify_items": null,
            "grid_row": null,
            "max_height": null,
            "align_content": null,
            "visibility": null,
            "align_self": null,
            "height": null,
            "min_height": null,
            "padding": null,
            "grid_auto_rows": null,
            "grid_gap": null,
            "max_width": null,
            "order": null,
            "_view_module_version": "1.2.0",
            "grid_template_areas": null,
            "object_position": null,
            "object_fit": null,
            "grid_auto_columns": null,
            "margin": null,
            "display": null,
            "left": null
          }
        },
        "c39e7c4f2d5b44f4a144756dacd92ed4": {
          "model_module": "@jupyter-widgets/controls",
          "model_name": "TextareaModel",
          "state": {
            "_view_name": "TextareaView",
            "style": "IPY_MODEL_c403de14fc9a4fc0accfbb462a91f10f",
            "rows": null,
            "_dom_classes": [],
            "description": "Płeć:",
            "_model_name": "TextareaModel",
            "placeholder": "Wpisz płeć",
            "_view_module": "@jupyter-widgets/controls",
            "_model_module_version": "1.5.0",
            "value": "",
            "_view_count": null,
            "disabled": false,
            "_view_module_version": "1.5.0",
            "continuous_update": true,
            "description_tooltip": null,
            "_model_module": "@jupyter-widgets/controls",
            "layout": "IPY_MODEL_7e96729040144fab90304bda7d416142"
          }
        },
        "c403de14fc9a4fc0accfbb462a91f10f": {
          "model_module": "@jupyter-widgets/controls",
          "model_name": "DescriptionStyleModel",
          "state": {
            "_view_name": "StyleView",
            "_model_name": "DescriptionStyleModel",
            "description_width": "initial",
            "_view_module": "@jupyter-widgets/base",
            "_model_module_version": "1.5.0",
            "_view_count": null,
            "_view_module_version": "1.2.0",
            "_model_module": "@jupyter-widgets/controls"
          }
        },
        "7e96729040144fab90304bda7d416142": {
          "model_module": "@jupyter-widgets/base",
          "model_name": "LayoutModel",
          "state": {
            "_view_name": "LayoutView",
            "grid_template_rows": null,
            "right": null,
            "justify_content": null,
            "_view_module": "@jupyter-widgets/base",
            "overflow": null,
            "_model_module_version": "1.2.0",
            "_view_count": null,
            "flex_flow": null,
            "width": null,
            "min_width": null,
            "border": null,
            "align_items": null,
            "bottom": null,
            "_model_module": "@jupyter-widgets/base",
            "top": null,
            "grid_column": null,
            "overflow_y": null,
            "overflow_x": null,
            "grid_auto_flow": null,
            "grid_area": null,
            "grid_template_columns": null,
            "flex": null,
            "_model_name": "LayoutModel",
            "justify_items": null,
            "grid_row": null,
            "max_height": null,
            "align_content": null,
            "visibility": null,
            "align_self": null,
            "height": null,
            "min_height": null,
            "padding": null,
            "grid_auto_rows": null,
            "grid_gap": null,
            "max_width": null,
            "order": null,
            "_view_module_version": "1.2.0",
            "grid_template_areas": null,
            "object_position": null,
            "object_fit": null,
            "grid_auto_columns": null,
            "margin": null,
            "display": null,
            "left": null
          }
        },
        "a660cfab28524f0ea6fb83629dc3038f": {
          "model_module": "@jupyter-widgets/controls",
          "model_name": "TextareaModel",
          "state": {
            "_view_name": "TextareaView",
            "style": "IPY_MODEL_30f76bb2033040d989c96c35a5711ee9",
            "rows": null,
            "_dom_classes": [],
            "description": "Data urodzenia:",
            "_model_name": "TextareaModel",
            "placeholder": "Wpisz date urodzenia",
            "_view_module": "@jupyter-widgets/controls",
            "_model_module_version": "1.5.0",
            "value": "",
            "_view_count": null,
            "disabled": false,
            "_view_module_version": "1.5.0",
            "continuous_update": true,
            "description_tooltip": null,
            "_model_module": "@jupyter-widgets/controls",
            "layout": "IPY_MODEL_7163c397224f4b8bb01c3efca9275450"
          }
        },
        "30f76bb2033040d989c96c35a5711ee9": {
          "model_module": "@jupyter-widgets/controls",
          "model_name": "DescriptionStyleModel",
          "state": {
            "_view_name": "StyleView",
            "_model_name": "DescriptionStyleModel",
            "description_width": "initial",
            "_view_module": "@jupyter-widgets/base",
            "_model_module_version": "1.5.0",
            "_view_count": null,
            "_view_module_version": "1.2.0",
            "_model_module": "@jupyter-widgets/controls"
          }
        },
        "7163c397224f4b8bb01c3efca9275450": {
          "model_module": "@jupyter-widgets/base",
          "model_name": "LayoutModel",
          "state": {
            "_view_name": "LayoutView",
            "grid_template_rows": null,
            "right": null,
            "justify_content": null,
            "_view_module": "@jupyter-widgets/base",
            "overflow": null,
            "_model_module_version": "1.2.0",
            "_view_count": null,
            "flex_flow": null,
            "width": null,
            "min_width": null,
            "border": null,
            "align_items": null,
            "bottom": null,
            "_model_module": "@jupyter-widgets/base",
            "top": null,
            "grid_column": null,
            "overflow_y": null,
            "overflow_x": null,
            "grid_auto_flow": null,
            "grid_area": null,
            "grid_template_columns": null,
            "flex": null,
            "_model_name": "LayoutModel",
            "justify_items": null,
            "grid_row": null,
            "max_height": null,
            "align_content": null,
            "visibility": null,
            "align_self": null,
            "height": null,
            "min_height": null,
            "padding": null,
            "grid_auto_rows": null,
            "grid_gap": null,
            "max_width": null,
            "order": null,
            "_view_module_version": "1.2.0",
            "grid_template_areas": null,
            "object_position": null,
            "object_fit": null,
            "grid_auto_columns": null,
            "margin": null,
            "display": null,
            "left": null
          }
        },
        "10dff9ccc90447d89043616fa1e8d381": {
          "model_module": "@jupyter-widgets/controls",
          "model_name": "TextareaModel",
          "state": {
            "_view_name": "TextareaView",
            "style": "IPY_MODEL_0bacb235d35c43b3a785dbec6b2db170",
            "rows": null,
            "_dom_classes": [],
            "description": "Data badania:",
            "_model_name": "TextareaModel",
            "placeholder": "Wpisz date badania",
            "_view_module": "@jupyter-widgets/controls",
            "_model_module_version": "1.5.0",
            "value": "",
            "_view_count": null,
            "disabled": false,
            "_view_module_version": "1.5.0",
            "continuous_update": true,
            "description_tooltip": null,
            "_model_module": "@jupyter-widgets/controls",
            "layout": "IPY_MODEL_f468979fef05437aa05419bb170527f9"
          }
        },
        "0bacb235d35c43b3a785dbec6b2db170": {
          "model_module": "@jupyter-widgets/controls",
          "model_name": "DescriptionStyleModel",
          "state": {
            "_view_name": "StyleView",
            "_model_name": "DescriptionStyleModel",
            "description_width": "initial",
            "_view_module": "@jupyter-widgets/base",
            "_model_module_version": "1.5.0",
            "_view_count": null,
            "_view_module_version": "1.2.0",
            "_model_module": "@jupyter-widgets/controls"
          }
        },
        "f468979fef05437aa05419bb170527f9": {
          "model_module": "@jupyter-widgets/base",
          "model_name": "LayoutModel",
          "state": {
            "_view_name": "LayoutView",
            "grid_template_rows": null,
            "right": null,
            "justify_content": null,
            "_view_module": "@jupyter-widgets/base",
            "overflow": null,
            "_model_module_version": "1.2.0",
            "_view_count": null,
            "flex_flow": null,
            "width": null,
            "min_width": null,
            "border": null,
            "align_items": null,
            "bottom": null,
            "_model_module": "@jupyter-widgets/base",
            "top": null,
            "grid_column": null,
            "overflow_y": null,
            "overflow_x": null,
            "grid_auto_flow": null,
            "grid_area": null,
            "grid_template_columns": null,
            "flex": null,
            "_model_name": "LayoutModel",
            "justify_items": null,
            "grid_row": null,
            "max_height": null,
            "align_content": null,
            "visibility": null,
            "align_self": null,
            "height": null,
            "min_height": null,
            "padding": null,
            "grid_auto_rows": null,
            "grid_gap": null,
            "max_width": null,
            "order": null,
            "_view_module_version": "1.2.0",
            "grid_template_areas": null,
            "object_position": null,
            "object_fit": null,
            "grid_auto_columns": null,
            "margin": null,
            "display": null,
            "left": null
          }
        },
        "f05c207627724477b039efd4a71f92ba": {
          "model_module": "@jupyter-widgets/controls",
          "model_name": "TextareaModel",
          "state": {
            "_view_name": "TextareaView",
            "style": "IPY_MODEL_b1d3daa0b45748dabd9a8cab70e07607",
            "rows": null,
            "_dom_classes": [],
            "description": "Komentarz:",
            "_model_name": "TextareaModel",
            "placeholder": "Wpisz komentarz",
            "_view_module": "@jupyter-widgets/controls",
            "_model_module_version": "1.5.0",
            "value": "what a lovely image we have here...",
            "_view_count": null,
            "disabled": false,
            "_view_module_version": "1.5.0",
            "continuous_update": true,
            "description_tooltip": null,
            "_model_module": "@jupyter-widgets/controls",
            "layout": "IPY_MODEL_3998a47f41894846932da9eafd900b8d"
          }
        },
        "b1d3daa0b45748dabd9a8cab70e07607": {
          "model_module": "@jupyter-widgets/controls",
          "model_name": "DescriptionStyleModel",
          "state": {
            "_view_name": "StyleView",
            "_model_name": "DescriptionStyleModel",
            "description_width": "initial",
            "_view_module": "@jupyter-widgets/base",
            "_model_module_version": "1.5.0",
            "_view_count": null,
            "_view_module_version": "1.2.0",
            "_model_module": "@jupyter-widgets/controls"
          }
        },
        "3998a47f41894846932da9eafd900b8d": {
          "model_module": "@jupyter-widgets/base",
          "model_name": "LayoutModel",
          "state": {
            "_view_name": "LayoutView",
            "grid_template_rows": null,
            "right": null,
            "justify_content": null,
            "_view_module": "@jupyter-widgets/base",
            "overflow": null,
            "_model_module_version": "1.2.0",
            "_view_count": null,
            "flex_flow": null,
            "width": null,
            "min_width": null,
            "border": null,
            "align_items": null,
            "bottom": null,
            "_model_module": "@jupyter-widgets/base",
            "top": null,
            "grid_column": null,
            "overflow_y": null,
            "overflow_x": null,
            "grid_auto_flow": null,
            "grid_area": null,
            "grid_template_columns": null,
            "flex": null,
            "_model_name": "LayoutModel",
            "justify_items": null,
            "grid_row": null,
            "max_height": null,
            "align_content": null,
            "visibility": null,
            "align_self": null,
            "height": null,
            "min_height": null,
            "padding": null,
            "grid_auto_rows": null,
            "grid_gap": null,
            "max_width": null,
            "order": null,
            "_view_module_version": "1.2.0",
            "grid_template_areas": null,
            "object_position": null,
            "object_fit": null,
            "grid_auto_columns": null,
            "margin": null,
            "display": null,
            "left": null
          }
        },
        "d60b5250274a430aa9d39976e4a5e2c0": {
          "model_module": "@jupyter-widgets/controls",
          "model_name": "CheckboxModel",
          "state": {
            "_view_name": "CheckboxView",
            "style": "IPY_MODEL_ddfd2534d82f40b888e6f95be385b1dc",
            "_dom_classes": [],
            "description": "Zapisz zdjęcie",
            "_model_name": "CheckboxModel",
            "_view_module": "@jupyter-widgets/controls",
            "_model_module_version": "1.5.0",
            "value": true,
            "_view_count": null,
            "disabled": false,
            "_view_module_version": "1.5.0",
            "indent": false,
            "description_tooltip": null,
            "_model_module": "@jupyter-widgets/controls",
            "layout": "IPY_MODEL_786db1629a85408f9872bedb379e4c0e"
          }
        },
        "ddfd2534d82f40b888e6f95be385b1dc": {
          "model_module": "@jupyter-widgets/controls",
          "model_name": "DescriptionStyleModel",
          "state": {
            "_view_name": "StyleView",
            "_model_name": "DescriptionStyleModel",
            "description_width": "",
            "_view_module": "@jupyter-widgets/base",
            "_model_module_version": "1.5.0",
            "_view_count": null,
            "_view_module_version": "1.2.0",
            "_model_module": "@jupyter-widgets/controls"
          }
        },
        "786db1629a85408f9872bedb379e4c0e": {
          "model_module": "@jupyter-widgets/base",
          "model_name": "LayoutModel",
          "state": {
            "_view_name": "LayoutView",
            "grid_template_rows": null,
            "right": null,
            "justify_content": null,
            "_view_module": "@jupyter-widgets/base",
            "overflow": null,
            "_model_module_version": "1.2.0",
            "_view_count": null,
            "flex_flow": null,
            "width": null,
            "min_width": null,
            "border": null,
            "align_items": null,
            "bottom": null,
            "_model_module": "@jupyter-widgets/base",
            "top": null,
            "grid_column": null,
            "overflow_y": null,
            "overflow_x": null,
            "grid_auto_flow": null,
            "grid_area": null,
            "grid_template_columns": null,
            "flex": null,
            "_model_name": "LayoutModel",
            "justify_items": null,
            "grid_row": null,
            "max_height": null,
            "align_content": null,
            "visibility": null,
            "align_self": null,
            "height": null,
            "min_height": null,
            "padding": null,
            "grid_auto_rows": null,
            "grid_gap": null,
            "max_width": null,
            "order": null,
            "_view_module_version": "1.2.0",
            "grid_template_areas": null,
            "object_position": null,
            "object_fit": null,
            "grid_auto_columns": null,
            "margin": null,
            "display": null,
            "left": null
          }
        },
        "d3e564481e3e4b288d10ba348ae35a6f": {
          "model_module": "@jupyter-widgets/controls",
          "model_name": "CheckboxModel",
          "state": {
            "_view_name": "CheckboxView",
            "style": "IPY_MODEL_404a6084f43c48a79acdfc49177c736f",
            "_dom_classes": [],
            "description": "Nadpisz plik",
            "_model_name": "CheckboxModel",
            "_view_module": "@jupyter-widgets/controls",
            "_model_module_version": "1.5.0",
            "value": false,
            "_view_count": null,
            "disabled": false,
            "_view_module_version": "1.5.0",
            "indent": false,
            "description_tooltip": null,
            "_model_module": "@jupyter-widgets/controls",
            "layout": "IPY_MODEL_7b0c085f420a4a8faa85f103e758a5a3"
          }
        },
        "404a6084f43c48a79acdfc49177c736f": {
          "model_module": "@jupyter-widgets/controls",
          "model_name": "DescriptionStyleModel",
          "state": {
            "_view_name": "StyleView",
            "_model_name": "DescriptionStyleModel",
            "description_width": "",
            "_view_module": "@jupyter-widgets/base",
            "_model_module_version": "1.5.0",
            "_view_count": null,
            "_view_module_version": "1.2.0",
            "_model_module": "@jupyter-widgets/controls"
          }
        },
        "7b0c085f420a4a8faa85f103e758a5a3": {
          "model_module": "@jupyter-widgets/base",
          "model_name": "LayoutModel",
          "state": {
            "_view_name": "LayoutView",
            "grid_template_rows": null,
            "right": null,
            "justify_content": null,
            "_view_module": "@jupyter-widgets/base",
            "overflow": null,
            "_model_module_version": "1.2.0",
            "_view_count": null,
            "flex_flow": null,
            "width": null,
            "min_width": null,
            "border": null,
            "align_items": null,
            "bottom": null,
            "_model_module": "@jupyter-widgets/base",
            "top": null,
            "grid_column": null,
            "overflow_y": null,
            "overflow_x": null,
            "grid_auto_flow": null,
            "grid_area": null,
            "grid_template_columns": null,
            "flex": null,
            "_model_name": "LayoutModel",
            "justify_items": null,
            "grid_row": null,
            "max_height": null,
            "align_content": null,
            "visibility": null,
            "align_self": null,
            "height": null,
            "min_height": null,
            "padding": null,
            "grid_auto_rows": null,
            "grid_gap": null,
            "max_width": null,
            "order": null,
            "_view_module_version": "1.2.0",
            "grid_template_areas": null,
            "object_position": null,
            "object_fit": null,
            "grid_auto_columns": null,
            "margin": null,
            "display": null,
            "left": null
          }
        },
        "32d813351ea74bf6babeafa527bc80a3": {
          "model_module": "@jupyter-widgets/controls",
          "model_name": "ButtonModel",
          "state": {
            "_view_name": "ButtonView",
            "style": "IPY_MODEL_97aa1d81d7b44a6db1194fb2ebcc2388",
            "_dom_classes": [],
            "description": "Click to Save",
            "_model_name": "ButtonModel",
            "button_style": "",
            "_view_module": "@jupyter-widgets/controls",
            "_model_module_version": "1.5.0",
            "tooltip": "",
            "_view_count": null,
            "disabled": false,
            "_view_module_version": "1.5.0",
            "layout": "IPY_MODEL_534075b998444f9d966651c469698a60",
            "_model_module": "@jupyter-widgets/controls",
            "icon": ""
          }
        },
        "97aa1d81d7b44a6db1194fb2ebcc2388": {
          "model_module": "@jupyter-widgets/controls",
          "model_name": "ButtonStyleModel",
          "state": {
            "_view_name": "StyleView",
            "_model_name": "ButtonStyleModel",
            "_view_module": "@jupyter-widgets/base",
            "_model_module_version": "1.5.0",
            "_view_count": null,
            "button_color": null,
            "font_weight": "",
            "_view_module_version": "1.2.0",
            "_model_module": "@jupyter-widgets/controls"
          }
        },
        "534075b998444f9d966651c469698a60": {
          "model_module": "@jupyter-widgets/base",
          "model_name": "LayoutModel",
          "state": {
            "_view_name": "LayoutView",
            "grid_template_rows": null,
            "right": null,
            "justify_content": null,
            "_view_module": "@jupyter-widgets/base",
            "overflow": null,
            "_model_module_version": "1.2.0",
            "_view_count": null,
            "flex_flow": null,
            "width": null,
            "min_width": null,
            "border": null,
            "align_items": null,
            "bottom": null,
            "_model_module": "@jupyter-widgets/base",
            "top": null,
            "grid_column": null,
            "overflow_y": null,
            "overflow_x": null,
            "grid_auto_flow": null,
            "grid_area": null,
            "grid_template_columns": null,
            "flex": null,
            "_model_name": "LayoutModel",
            "justify_items": null,
            "grid_row": null,
            "max_height": null,
            "align_content": null,
            "visibility": null,
            "align_self": null,
            "height": null,
            "min_height": null,
            "padding": null,
            "grid_auto_rows": null,
            "grid_gap": null,
            "max_width": null,
            "order": null,
            "_view_module_version": "1.2.0",
            "grid_template_areas": null,
            "object_position": null,
            "object_fit": null,
            "grid_auto_columns": null,
            "margin": null,
            "display": null,
            "left": null
          }
        },
        "64f323c02524499db4137c2108a120c8": {
          "model_module": "@jupyter-widgets/output",
          "model_name": "OutputModel",
          "state": {
            "_view_name": "OutputView",
            "msg_id": "",
            "_dom_classes": [],
            "_model_name": "OutputModel",
            "outputs": [
              {
                "output_type": "stream",
                "metadata": {
                  "tags": []
                },
                "text": "Kwadraty2.dcm\n",
                "stream": "stdout"
              }
            ],
            "_view_module": "@jupyter-widgets/output",
            "_model_module_version": "1.0.0",
            "_view_count": null,
            "_view_module_version": "1.0.0",
            "layout": "IPY_MODEL_b4c3f57a21cd40ddaa02cd398b40da6d",
            "_model_module": "@jupyter-widgets/output"
          }
        },
        "b4c3f57a21cd40ddaa02cd398b40da6d": {
          "model_module": "@jupyter-widgets/base",
          "model_name": "LayoutModel",
          "state": {
            "_view_name": "LayoutView",
            "grid_template_rows": null,
            "right": null,
            "justify_content": null,
            "_view_module": "@jupyter-widgets/base",
            "overflow": null,
            "_model_module_version": "1.2.0",
            "_view_count": null,
            "flex_flow": null,
            "width": null,
            "min_width": null,
            "border": null,
            "align_items": null,
            "bottom": null,
            "_model_module": "@jupyter-widgets/base",
            "top": null,
            "grid_column": null,
            "overflow_y": null,
            "overflow_x": null,
            "grid_auto_flow": null,
            "grid_area": null,
            "grid_template_columns": null,
            "flex": null,
            "_model_name": "LayoutModel",
            "justify_items": null,
            "grid_row": null,
            "max_height": null,
            "align_content": null,
            "visibility": null,
            "align_self": null,
            "height": null,
            "min_height": null,
            "padding": null,
            "grid_auto_rows": null,
            "grid_gap": null,
            "max_width": null,
            "order": null,
            "_view_module_version": "1.2.0",
            "grid_template_areas": null,
            "object_position": null,
            "object_fit": null,
            "grid_auto_columns": null,
            "margin": null,
            "display": null,
            "left": null
          }
        }
      }
    }
  },
  "cells": [
    {
      "cell_type": "markdown",
      "metadata": {
        "id": "QFNmz0tm0kzc"
      },
      "source": [
        "######**Projekt Informatyka w Medycynie- Symulator tomografu komputerowego**"
      ]
    },
    {
      "cell_type": "code",
      "metadata": {
        "colab": {
          "base_uri": "https://localhost:8080/"
        },
        "id": "N5-zutT703rF",
        "outputId": "3ae766cc-2289-444a-cb2d-b4b17e15acbb"
      },
      "source": [
        "!pip install pydicom\n",
        "import datetime\n",
        "import ipywidgets as widgets\n",
        "from PIL import Image, ImageOps\n",
        "from skimage.util import img_as_int\n",
        "import pydicom\n",
        "from pydicom.filebase import DicomBytesIO\n",
        "from pydicom import dcmread\n",
        "from ipywidgets import FileUpload\n",
        "from IPython.display import display\n",
        "import io\n",
        "import numpy as np\n",
        "import math\n",
        "from PIL import Image, ImageOps\n",
        "from numpy import asarray\n",
        "from IPython.display import clear_output\n",
        "import numpy as np\n",
        "import math\n",
        "from skimage.transform import radon, rescale\n",
        "import matplotlib.pyplot as plt\n",
        "import matplotlib.animation\n",
        "from pydicom import dcmread\n",
        "from pydicom.data import get_testdata_file\n",
        "from __future__ import print_function\n",
        "from IPython.display import clear_output\n",
        "import tempfile\n",
        "from matplotlib.figure import Figure\n",
        "from matplotlib.backends.backend_agg import FigureCanvasAgg"
      ],
      "execution_count": 44,
      "outputs": [
        {
          "output_type": "stream",
          "text": [
            "Requirement already satisfied: pydicom in /usr/local/lib/python3.7/dist-packages (2.1.2)\n"
          ],
          "name": "stdout"
        }
      ]
    },
    {
      "cell_type": "code",
      "metadata": {
        "id": "G2ao9kyD1vgZ"
      },
      "source": [
        "def bresenham(x1,y1,x2, y2, n, m):\n",
        "\n",
        "    dx = x2 - x1\n",
        "    dy = y2 - y1\n",
        " \n",
        "    is_steep = abs(dy) > abs(dx)\n",
        " \n",
        "    if is_steep:\n",
        "        x1, y1 = y1, x1\n",
        "        x2, y2 = y2, x2\n",
        "    swapped = False\n",
        "    if x1 > x2:\n",
        "        x1, x2 = x2, x1\n",
        "        y1, y2 = y2, y1\n",
        "        swapped = True\n",
        "\n",
        "    dx = x2 - x1\n",
        "    dy = y2 - y1\n",
        "\n",
        "    error = int(dx / 2.0)\n",
        "    ystep = 1 if y1 < y2 else -1\n",
        "\n",
        "    y = y1\n",
        "    points = []\n",
        "    for x in range(x1, x2 + 1):\n",
        "        coord = [y, x] if is_steep else [x, y]\n",
        "        points.append(coord)\n",
        "        error -= abs(dy)\n",
        "        if error < 0:\n",
        "            y += ystep\n",
        "            error += dx\n",
        "\n",
        "    if swapped:\n",
        "        points.reverse()\n",
        "    \n",
        "    return points"
      ],
      "execution_count": 45,
      "outputs": []
    },
    {
      "cell_type": "code",
      "metadata": {
        "id": "k_gIebtL127b"
      },
      "source": [
        "def anim_radon(img, da, nn, l, if_filter):\n",
        "        if if_filter == True:\n",
        "          filter_vec = []\n",
        "          for i in range(-4, 4, 1):\n",
        "              if i == 0:\n",
        "                  filter_vec.append(1)\n",
        "              elif i%2 == 0:\n",
        "                  filter_vec.append(0)\n",
        "              else:\n",
        "                  filter_vec.append(-4/(math.pi*math.pi*(i*i)))\n",
        "        vector = np.zeros((nn,1))\n",
        "        v = np.zeros((nn,1))\n",
        "        filename = tempfile.NamedTemporaryFile(suffix=\".gif\").name\n",
        "        frames = []\n",
        "        fig = Figure(figsize=(5, 4), dpi=100)\n",
        "        canvas = FigureCanvasAgg(fig)\n",
        "        ax = fig.add_subplot(111)\n",
        "        dx, dy = 0.5 * 180.0 / max(img.shape), 0.5 / img.shape[0]\n",
        "        rhomax = math.ceil((img.shape[0]**2 + img.shape[1]**2)**0.5)\n",
        "        m = round(img.shape[0]/2)\n",
        "        n = round(img.shape[1]/2)\n",
        "        r = round( rhomax/2)\n",
        "        a = 0\n",
        "        output = np.zeros((nn, math.ceil(180/da)))\n",
        "        aa = 0\n",
        "        r = round(rhomax/2)+1\n",
        "        distances = []\n",
        "        source =[]\n",
        "        dedectors = []\n",
        "        for i in range(0, nn):\n",
        "            dedectors.append([round(r*math.cos(math.radians(a+(180)-(l/2)+ i* (l/(nn-1))))), \n",
        "                                        round(r*math.sin(math.radians(a+(180)-(l/2)+ i* (l/(nn-1)))))])\n",
        "            source.append([round(r*math.cos(math.radians(a+(0)+(l/2)- i* (l/(nn-1))))), \n",
        "                                            round(r*math.sin(math.radians(a+(0)+(l/2)- i* (l/(nn-1)))))])\n",
        "\n",
        "            \n",
        "        \n",
        "        while a < 180:\n",
        "          \n",
        "            source =[] \n",
        "            dedectors = []\n",
        "            for i in range(0, nn):\n",
        "                dedectors.append([round(r*math.cos(math.radians(a+(180)-(l/2)+ i* (l/(nn-1))))), \n",
        "                                            round(r*math.sin(math.radians(a+(180)-(l/2)+ i* (l/(nn-1)))))])\n",
        "                source.append([round(r*math.cos(math.radians(a+(0)+(l/2)- i* (l/(nn-1))))), \n",
        "                                            round(r*math.sin(math.radians(a+(0)+(l/2)- i* (l/(nn-1)))))])\n",
        "            b =0\n",
        "            gamma = -l/2\n",
        "            for j in range(0, nn):\n",
        "                li = bresenham(source[j][0], source[j][1], dedectors[j][0], dedectors[j][1], n, m)\n",
        "                suma = 0\n",
        "                num = 0\n",
        "                for i in li:\n",
        "                    if i[0]+n < img.shape[0] and i[1] +m<  img.shape[1] and i[0]+n >= 0 and i[1] +m >= 0 :\n",
        "                        suma += img[i[0]+n][i[1]+m]\n",
        "                        num +=1\n",
        "    \n",
        "                                    \n",
        "                if num != 0:\n",
        "                    output[-j, aa] += suma/num\n",
        "            \n",
        "\n",
        "                b+=1\n",
        "                gamma += l/n\n",
        "              \n",
        "            if if_filter == True:\n",
        "              output[:, aa] = np.convolve(output[:,aa], filter_vec, 'same')\n",
        "              \n",
        "            a+=da\n",
        "            aa +=1\n",
        "            if aa%5 == 0:\n",
        "\n",
        "                ax.imshow(output, cmap=plt.cm.Greys_r,\n",
        "               aspect='auto', extent=[0, 180, 0, nn])\n",
        "                canvas.draw()\n",
        "                buf = canvas.buffer_rgba()\n",
        "                X = np.asarray(buf)\n",
        "                im = Image.fromarray(X)\n",
        "                frames.append(im.copy())\n",
        "\n",
        "        arr = output\n",
        "\n",
        "        frames[0].save(filename, format=\"GIF\", append_images=frames[1:],\n",
        "                   save_all=True, duration=100, loop=0)\n",
        "        return [filename, arr]"
      ],
      "execution_count": 46,
      "outputs": []
    },
    {
      "cell_type": "code",
      "metadata": {
        "id": "-MdhXFwU16bj"
      },
      "source": [
        "def my_radon(img, da, nn, l, if_filter):\n",
        "        \n",
        "        if if_filter == True:\n",
        "          filter_vec = []\n",
        "          for i in range(-4, 4, 1):\n",
        "              if i == 0:\n",
        "                  filter_vec.append(1)\n",
        "              elif i%2 == 0:\n",
        "                  filter_vec.append(0)\n",
        "              else:\n",
        "                  filter_vec.append(-4/(math.pi*math.pi*(i*i)))\n",
        "        vector = np.zeros((nn,1))\n",
        "        v = np.zeros((nn,1))\n",
        "        rhomax = math.ceil((img.shape[0]**2 + img.shape[1]**2)**0.5)\n",
        "        m = round(img.shape[0]/2)\n",
        "        n = round(img.shape[1]/2)\n",
        "        r = round( rhomax/2)\n",
        "        a = 0\n",
        "        output = np.zeros((nn, math.ceil(180/da)))\n",
        "        aa = 0\n",
        "        r = round(rhomax/2)+1\n",
        "        distances = []\n",
        "        source =[]\n",
        "        dedectors = []\n",
        "        for i in range(0, nn):\n",
        "            dedectors.append([round(r*math.cos(math.radians(a+(180)-(l/2)+ i* (l/(nn-1))))), \n",
        "                                        round(r*math.sin(math.radians(a+(180)-(l/2)+ i* (l/(nn-1)))))])\n",
        "            source.append([round(r*math.cos(math.radians(a+(0)+(l/2)- i* (l/(nn-1))))), \n",
        "                                            round(r*math.sin(math.radians(a+(0)+(l/2)- i* (l/(nn-1)))))])\n",
        "\n",
        "            \n",
        "        \n",
        "        while a < 180:\n",
        "            source =[]\n",
        "            dedectors = []\n",
        "            for i in range(0, nn):\n",
        "                dedectors.append([round(r*math.cos(math.radians(a+(180)-(l/2)+ i* (l/(nn-1))))), \n",
        "                                            round(r*math.sin(math.radians(a+(180)-(l/2)+ i* (l/(nn-1)))))])\n",
        "                source.append([round(r*math.cos(math.radians(a+(0)+(l/2)- i* (l/(nn-1))))), \n",
        "                                            round(r*math.sin(math.radians(a+(0)+(l/2)- i* (l/(nn-1)))))])\n",
        "            b =0\n",
        "            gamma = -l/2\n",
        "            for j in range(0, nn):\n",
        "                li = bresenham(source[j][0], source[j][1], dedectors[j][0], dedectors[j][1], n, m)\n",
        "                suma = 0\n",
        "                num = 0\n",
        "                for i in li:\n",
        "                    if i[0]+n < img.shape[0] and i[1] +m<  img.shape[1] and i[0]+n >= 0 and i[1] +m >= 0 :\n",
        "                        suma += img[(i[0]+n)][(i[1]+m)]\n",
        "                        num +=1\n",
        "\n",
        "                if num != 0:\n",
        "                    output[-j, aa] += suma/num\n",
        "  \n",
        "                b+=1\n",
        "                gamma += l/n\n",
        "            if if_filter == True:\n",
        "              output[:, aa] = np.convolve(output[:,aa], filter_vec, 'same')  \n",
        "            a+=da\n",
        "            aa +=1\n",
        "\n",
        "        fig = Figure(figsize=(5, 4), dpi=100)\n",
        "        canvas = FigureCanvasAgg(fig)\n",
        "        ax = fig.add_subplot(111)\n",
        "        ax.imshow(output, cmap=plt.cm.Greys_r,\n",
        "        aspect='auto', extent=[0, 180, 0, nn])\n",
        "        canvas.draw()\n",
        "        buf = canvas.buffer_rgba()\n",
        "\n",
        "        X = np.asarray(buf)\n",
        "        im = Image.fromarray(X)\n",
        "        arr = output\n",
        "        return [im, arr]"
      ],
      "execution_count": 47,
      "outputs": []
    },
    {
      "cell_type": "code",
      "metadata": {
        "id": "k4ql-hNY2Tj1"
      },
      "source": [
        "filter = widgets.Checkbox(\n",
        "    value=False,\n",
        "    description='Filtrowanie odwrotnej transformaty',\n",
        "    disabled=False,\n",
        "    indent=False\n",
        ")\n",
        "\n",
        "with_anim = widgets.Checkbox(\n",
        "    value=False,\n",
        "    description='Pokazywnie kroków',\n",
        "    disabled=False,\n",
        "    indent=False\n",
        ")\n",
        "step =  widgets.Textarea(\n",
        "    value='1',\n",
        "    description='Krok detektora:',\n",
        "    disabled=False,\n",
        "    style = {'description_width': 'initial'}\n",
        ")\n",
        "angle =  widgets.Textarea(\n",
        "    value='180',\n",
        "    description='Rozpietosc katowa:',\n",
        "    disabled=False,\n",
        "    style = {'description_width': 'initial'}\n",
        ")\n",
        "number =  widgets.Textarea(\n",
        "    value='180',\n",
        "    description='Ilość detektorów:',\n",
        "    disabled=False,\n",
        "    style = {'description_width': 'initial'}\n",
        ")"
      ],
      "execution_count": 48,
      "outputs": []
    },
    {
      "cell_type": "code",
      "metadata": {
        "id": "epsAA5P45Q6L"
      },
      "source": [
        "name =  widgets.Textarea(\n",
        "    value='Imie i nazwisko',\n",
        "    description='Krok dedektora:',\n",
        "    disabled=False,\n",
        "    style = {'description_width': 'initial'}\n",
        ")\n",
        "save = widgets.Checkbox(\n",
        "    value=False,\n",
        "    description='Zapis zreknstruowanego obrazu',\n",
        "    disabled=False,\n",
        "    indent=False\n",
        ")"
      ],
      "execution_count": 49,
      "outputs": []
    },
    {
      "cell_type": "code",
      "metadata": {
        "id": "0I0hvMdD18sv"
      },
      "source": [
        "def inv_anim_radon(img, da, nn, l, len, len1):\n",
        "        filename = tempfile.NamedTemporaryFile(suffix=\".gif\").name\n",
        "        frames = []\n",
        "        fig = Figure(figsize=(5, 4), dpi=100)\n",
        "        canvas = FigureCanvasAgg(fig)\n",
        "        ax = fig.add_subplot(111)\n",
        "        rhomax = math.ceil((len**2 + len1**2)**0.5)\n",
        "\n",
        "        m = math.ceil(len/2)\n",
        "        n =math.ceil(len1/2)\n",
        "        r = round( rhomax/2)\n",
        "        a = 0\n",
        "        output = np.zeros((len, len1))\n",
        "        aa = 0\n",
        "        r = round(rhomax/2)+1\n",
        "        distances = []\n",
        "        source =[]\n",
        "        dedectors = []\n",
        "        for i in range(0, nn):\n",
        "            dedectors.append([round(r*math.cos(math.radians(a+(180)-(l/2)+ i* (l/(nn-1))))), \n",
        "                                        round(r*math.sin(math.radians(a+(180)-(l/2)+ i* (l/(nn-1)))))])\n",
        "            source.append([round(r*math.cos(math.radians(a+(0)+(l/2)- i* (l/(nn-1))))), \n",
        "                                            round(r*math.sin(math.radians(a+(0)+(l/2)- i* (l/(nn-1)))))])\n",
        "\n",
        "        \n",
        "        while a < 180:\n",
        "            source =[] \n",
        "            dedectors = []\n",
        "            for i in range(0, nn):\n",
        "                dedectors.append([round(r*math.cos(math.radians(a+(180)-(l/2)+ i* (l/(nn-1))))), \n",
        "                                            round(r*math.sin(math.radians(a+(180)-(l/2)+ i* (l/(nn-1)))))])\n",
        "                source.append([round(r*math.cos(math.radians(a+(0)+(l/2)- i* (l/(nn-1))))), \n",
        "                                            round(r*math.sin(math.radians(a+(0)+(l/2)- i* (l/(nn-1)))))])\n",
        "            b =0\n",
        "            gamma = -l/2\n",
        "            for j in range(0, nn):\n",
        "                li = bresenham(source[j][0], source[j][1], dedectors[j][0], dedectors[j][1], n, m)\n",
        "                suma = 0\n",
        "                for i in li:\n",
        "                    if i[0]+n < len and i[1] +m< len1 and i[0]+n >= 0 and i[1] +m >= 0 :\n",
        "                        output[-1*(i[0]+n)][-1*(i[1]+m)] += img[j, aa]\n",
        "                b+=1\n",
        "                gamma += l/n\n",
        "                \n",
        "            a+=da\n",
        "            aa +=1\n",
        "            if aa%5 == 0:\n",
        "\n",
        "              ax.imshow(output, cmap=plt.cm.Greys_r,\n",
        "               aspect='auto', extent=[0, n, 0, m])\n",
        "              canvas.draw()\n",
        "              buf = canvas.buffer_rgba()\n",
        "              X = np.asarray(buf)\n",
        "              im = Image.fromarray(X)\n",
        "              frames.append(im.copy())\n",
        "        arr = output     \n",
        "        arr = arr - np.min(arr)\n",
        "        arr = arr / np.max(arr)\n",
        "        arr = np.rint(arr *255)\n",
        "        frames[0].save(filename, format=\"GIF\", append_images=frames[1:],\n",
        "                   save_all=True, duration=100, loop=2)\n",
        "        return [filename, arr]"
      ],
      "execution_count": 50,
      "outputs": []
    },
    {
      "cell_type": "code",
      "metadata": {
        "id": "hrHZR_pGZAE6"
      },
      "source": [
        "def inv_radon(img, da, nn, l, len, len1):\n",
        "        filename = tempfile.NamedTemporaryFile(suffix=\".gif\").name\n",
        "        frames = []\n",
        "        fig = Figure(figsize=(5, 4), dpi=100)\n",
        "        canvas = FigureCanvasAgg(fig)\n",
        "        ax = fig.add_subplot(111)\n",
        "        rhomax = math.ceil((len**2 + len1**2)**0.5)\n",
        "\n",
        "        m = math.ceil(len/2)\n",
        "        n =math.ceil(len1/2) \n",
        "        r = round( rhomax/2)\n",
        "        a = 0\n",
        "        output = np.zeros((len, len1))\n",
        "        aa = 0\n",
        "        r = round(rhomax/2)+1\n",
        "        distances = []\n",
        "        source =[]\n",
        "        dedectors = []\n",
        "        for i in range(0, nn):\n",
        "            dedectors.append([round(r*math.cos(math.radians(a+(180)-(l/2)+ i* (l/(nn-1))))), \n",
        "                                        round(r*math.sin(math.radians(a+(180)-(l/2)+ i* (l/(nn-1)))))])\n",
        "            source.append([round(r*math.cos(math.radians(a+(0)+(l/2)- i* (l/(nn-1))))), \n",
        "                                            round(r*math.sin(math.radians(a+(0)+(l/2)- i* (l/(nn-1)))))])\n",
        "\n",
        "        \n",
        "        while a < 180:\n",
        "            source =[] \n",
        "            dedectors = []\n",
        "            for i in range(0, nn):\n",
        "                dedectors.append([round(r*math.cos(math.radians(a+(180)-(l/2)+ i* (l/(nn-1))))), \n",
        "                                            round(r*math.sin(math.radians(a+(180)-(l/2)+ i* (l/(nn-1)))))])\n",
        "                source.append([round(r*math.cos(math.radians(a+(0)+(l/2)- i* (l/(nn-1))))), \n",
        "                                            round(r*math.sin(math.radians(a+(0)+(l/2)- i* (l/(nn-1)))))])\n",
        "            b =0\n",
        "            gamma = -l/2\n",
        "            for j in range(0, nn):\n",
        "                li = bresenham(source[j][0], source[j][1], dedectors[j][0], dedectors[j][1], n, m)\n",
        "                suma = 0\n",
        "                for i in li:\n",
        "                    if i[0]+n < len and i[1] +m< len1 and i[0]+n >= 0 and i[1] +m >= 0 :\n",
        "                        output[-1*(i[0]+n)][-1*(i[1]+m)] += img[j, aa]\n",
        "                b+=1\n",
        "                gamma += l/n\n",
        "                \n",
        "            a+=da\n",
        "            aa +=1\n",
        "\n",
        "        ax.imshow(output, cmap=plt.cm.Greys_r,\n",
        "          aspect='auto', extent=[0, len, 0, len1])\n",
        "        canvas.draw()\n",
        "        buf = canvas.buffer_rgba()\n",
        "        X = np.asarray(buf)\n",
        "        im = Image.fromarray(X)\n",
        "\n",
        "        arr = output     \n",
        "        arr = arr - np.min(arr)\n",
        "        arr = arr / np.max(arr)\n",
        "        arr = np.rint(arr *255)\n",
        "        return [im, arr]"
      ],
      "execution_count": 51,
      "outputs": []
    },
    {
      "cell_type": "code",
      "metadata": {
        "id": "PRasUM0m4JOI"
      },
      "source": [
        "def start():\n",
        "  global upload\n",
        "  upload = FileUpload(accept='', multiple=False, description='Upload jpg or dcm file')\n",
        "  display(upload)\n",
        "  display(filter)\n",
        "  display(with_anim)\n",
        "  display(step)\n",
        "  display(angle)\n",
        "  display(number)\n",
        "  button = widgets.Button(description=\"Rozpocznij\")\n",
        "  output = widgets.Output()\n",
        "  output2 = widgets.Output()\n",
        "  display(button, output, output2)\n",
        "\n",
        "  def on_button_clicked(b):\n",
        "    \n",
        "    with output:\n",
        "      for uploaded_filename in upload.value:\n",
        "        clear_output(wait=True)\n",
        "        print(uploaded_filename)\n",
        "        if (uploaded_filename[uploaded_filename.find('.'):] == '.dcm'):\n",
        "          content = upload.value[uploaded_filename]['content'] \n",
        "          dt = dcmread(io.BytesIO(content))\n",
        "          img = dt.pixel_array\n",
        "          im = Image.fromarray(img)\n",
        "          display(im)\n",
        "\n",
        "        else:\n",
        "          content = upload.value[uploaded_filename]['content']  \n",
        "          img = Image.open(io.BytesIO(content))\n",
        "          img = ImageOps.grayscale(img)\n",
        "          display(img)\n",
        "          img = np.asarray(img)\n",
        "    global obrazek      \n",
        "    if with_anim.value == True:\n",
        "      i = anim_radon(img,float(step.value),int(float(number.value)),float(angle.value), filter.value)\n",
        "      f = open(i[0], 'rb')\n",
        "      f= f.read()\n",
        "      imgg = widgets.Image(value = f)\n",
        "      display(imgg)\n",
        "      i2 = inv_anim_radon(i[1], float(step.value),int(float(number.value)),float(angle.value), img.shape[0], img.shape[1])\n",
        "      f2 = open(i2[0], 'rb')\n",
        "      f2= f2.read()\n",
        "      imgg = widgets.Image(value = f2)\n",
        "      display(imgg)\n",
        "      mes = np.sqrt(((img-i2[1])**2).mean())\n",
        "      obrazek = i2[1]\n",
        "      print(\"RMSE: \", mes)\n",
        "      \n",
        "\n",
        "    else:\n",
        "      i = my_radon(img,float(step.value),int(float(number.value)),float(angle.value), filter.value)\n",
        "      buf = io.BytesIO()\n",
        "      i[0].save(buf, format='PNG')\n",
        "      imgg = widgets.Image(value = buf.getvalue())\n",
        "      display(imgg)\n",
        "      buf2 = io.BytesIO()\n",
        "\n",
        "      i2 = inv_radon(i[1],float(step.value),int(float(number.value)),float(angle.value),img.shape[0], img.shape[1])\n",
        "      i2[0].save(buf2, format='PNG')\n",
        "      imgg2 = widgets.Image(value = buf2.getvalue())\n",
        "      display(imgg2)\n",
        "      print(\"RMSE: \", np.sqrt(((img-i2[1])**2).mean()))\n",
        "\n",
        "      obrazek = i2[1]\n",
        "      \n",
        "  button.on_click(on_button_clicked)\n",
        "\n",
        "  "
      ],
      "execution_count": 52,
      "outputs": []
    },
    {
      "cell_type": "code",
      "metadata": {
        "id": "LSbN-R54s6i1"
      },
      "source": [
        "s_file = widgets.Textarea(\n",
        "    value='',\n",
        "    placeholder='Wpisz nazwe pliku',\n",
        "    description='Nazwa pliku:',\n",
        "    disabled=False,\n",
        "    style = {'description_width': 'initial'}\n",
        ")\n",
        "save_with = widgets.Checkbox(\n",
        "    value=False,\n",
        "    description='Zapisz zdjęcie',\n",
        "    disabled=False,\n",
        "    indent=False\n",
        ")\n",
        "save_old = widgets.Checkbox(\n",
        "    value=False,\n",
        "    description='Nadpisz plik',\n",
        "    disabled=False,\n",
        "    indent=False\n",
        ") \n",
        "\n",
        "id_p = widgets.Textarea(\n",
        "    value='',\n",
        "    placeholder='Wpisz ID pacjenta',\n",
        "    description='ID:',\n",
        "    disabled=False,\n",
        "    style = {'description_width': 'initial'}\n",
        ")\n",
        "first_name = widgets.Textarea(\n",
        "    value='',\n",
        "    placeholder='Wpisz imię',\n",
        "    description='Imię:',\n",
        "    disabled=False,\n",
        "    style = {'description_width': 'initial'}\n",
        ")\n",
        "surname = widgets.Textarea(\n",
        "    value='',\n",
        "    placeholder='Wpisz nazwisko',\n",
        "    description='Nazwisko:',\n",
        "    disabled=False,\n",
        "    style = {'description_width': 'initial'}\n",
        ")\n",
        "sex_p = widgets.Textarea(\n",
        "    value='',\n",
        "    placeholder='Wpisz płeć',\n",
        "    description='Płeć:',\n",
        "    disabled=False,\n",
        "    style = {'description_width': 'initial'}\n",
        ")\n",
        "birth_d = widgets.Textarea(\n",
        "    value='',\n",
        "    placeholder='Wpisz date urodzenia',\n",
        "    description='Data urodzenia:',\n",
        "    disabled=False,\n",
        "    style = {'description_width': 'initial'}\n",
        ")\n",
        "study_d = widgets.Textarea(\n",
        "    value='',\n",
        "    placeholder='Wpisz date badania',\n",
        "    description='Data badania:',\n",
        "    disabled=False,\n",
        "    style = {'description_width': 'initial'}\n",
        ")\n",
        "comments = widgets.Textarea(\n",
        "    value='',\n",
        "    placeholder='Wpisz komentarz',\n",
        "    description='Komentarz:',\n",
        "    disabled=False,\n",
        "    style = {'description_width': 'initial'}\n",
        ")"
      ],
      "execution_count": 53,
      "outputs": []
    },
    {
      "cell_type": "code",
      "metadata": {
        "id": "G7cAHhgHimc7"
      },
      "source": [
        "def write_DICOM(list, flag1, flag2, filename):\n",
        "  \n",
        "  image = obrazek\n",
        "  if flag2 == True:\n",
        "    ds = DICOM_data\n",
        "  else:\n",
        "    suffix = '.dcm'\n",
        "    filect = get_testdata_file('CT_small.dcm')\n",
        "    ds = pydicom.dcmread(filect)\n",
        "  \n",
        "  if list[0]!='':\n",
        "    ds.PatientID = list[0]\n",
        "  else:\n",
        "    print('Brak ID')\n",
        "    return\n",
        "  if (list[1]!='') and (list[2]!=''):\n",
        "    ds.PatientName = '{}^{}'.format(list[2], list[1])\n",
        "  if list[3]!='':\n",
        "    ds.PatientSex = list[3]\n",
        "  if list[4]!='':\n",
        "    ds.PatientBirthDate = list[4]\n",
        "  if list[5]!='':\n",
        "    ds.ImageComments = list[5]\n",
        "  if list[6]!='':\n",
        "    ds.PatientBirthDate = list[6]\n",
        "  if list[7]!='':\n",
        "    ds.StudyDate = list[7]\n",
        "  \n",
        "  if flag1==True:\n",
        "    ds.Rows, ds.Columns = image.shape[0], image.shape[1]\n",
        "    ds.PixelRepresentation = 0\n",
        "    ds.BitsAllocated = 16\n",
        "    if image.dtype != np.uint16:\n",
        "      pixel_array = image.astype(np.uint16)\n",
        "    ds.PixelData = pixel_array.tobytes()\n",
        "  \n",
        "  ds.save_as(filename)\n",
        "  print(filename)\n",
        "  return\n",
        "\n",
        "\n",
        "\n",
        "def read_DICOM(path):\n",
        "  picture = 0\n",
        "  res = ['',['',''],'','','','','']\n",
        "  for uploaded_filename in path.value:\n",
        "          res[6] = uploaded_filename\n",
        "          content = path.value[uploaded_filename]['content']\n",
        "          raw = DicomBytesIO(content)\n",
        "          dt = dcmread(raw)\n",
        "\n",
        "  for item in dt:\n",
        "      if (item.keyword == 'PatientID'):\n",
        "        res[0] = dt.PatientID\n",
        "      if (item.keyword == 'PatientName'):\n",
        "        res[1][0] = dt.PatientName.given_name\n",
        "        res[1][1] = dt.PatientName.family_name\n",
        "      if (item.keyword == 'PatientSex'):\n",
        "        res[2] = dt.PatientSex\n",
        "      if (item.keyword == 'PatientBirthDate'):\n",
        "        res[3] = dt.PatientBirthDate\n",
        "      if (item.keyword == 'StudyDate'):\n",
        "        res[4] = dt.StudyDate\n",
        "      if (item.keyword == 'ImageComments'):\n",
        "        res[5] = dt.ImageComments\n",
        "      if (item.keyword == 'PixelData'):\n",
        "        picture = 1\n",
        "\n",
        "  if (picture == 1):\n",
        "    plt.imshow(dt.pixel_array, cmap='gray')\n",
        "  return dt, res"
      ],
      "execution_count": 54,
      "outputs": []
    },
    {
      "cell_type": "code",
      "metadata": {
        "id": "L4KLYIJU7JN0"
      },
      "source": [
        "def start2():\n",
        "\n",
        "  \n",
        "  readbutton = widgets.Button(description=\"Click to Read\")\n",
        "  output3 = widgets.Output()\n",
        "  display(readbutton, output3)\n",
        "  display(s_file)\n",
        "  display(id_p)\n",
        "  display(first_name)\n",
        "  display(surname)\n",
        "  display(sex_p)\n",
        "  display(birth_d)\n",
        "  display(study_d)\n",
        "  display(comments)\n",
        "  display(save_with)\n",
        "  display(save_old)\n",
        "  savebutton = widgets.Button(description=\"Click to Save\")\n",
        "  output4 = widgets.Output()\n",
        "  display(savebutton, output4)\n",
        "  \n",
        "  def on_read_button_clicked(b):\n",
        "    with output3:\n",
        "      global DICOM_data\n",
        "      clear_output(wait=True)\n",
        "      for uploaded_filename in upload.value:\n",
        "        if uploaded_filename[-4:]!='.dcm':\n",
        "          print('Otrzymano plik {}, spodziewano sie .dcm'.format(uploaded_filename[-4:]))\n",
        "          return\n",
        "      DICOM_data, values = read_DICOM(upload)\n",
        "      s_file.value = values[6]\n",
        "      id_p.value = values[0]\n",
        "      first_name.value = values[1][0]\n",
        "      surname.value = values[1][1]\n",
        "      sex_p.value = values[2]\n",
        "      birth_d.value = values[3]\n",
        "      study_d.value = values[4]\n",
        "      comments.value = values[5]\n",
        "      \n",
        "      \n",
        "  readbutton.on_click(on_read_button_clicked)\n",
        "  \n",
        "  def on_save_button_clicked(b):\n",
        "    with output4:\n",
        "      box_data = [id_p.value,\n",
        "      first_name.value,\n",
        "      surname.value,\n",
        "      sex_p.value,\n",
        "      birth_d.value,\n",
        "      comments.value,\n",
        "      birth_d.value,\n",
        "      study_d.value]\n",
        "      write_DICOM(box_data, save_with.value, save_old.value, s_file.value)\n",
        "      \n",
        "  savebutton.on_click(on_save_button_clicked)\n",
        "  return\n"
      ],
      "execution_count": 55,
      "outputs": []
    },
    {
      "cell_type": "markdown",
      "metadata": {
        "id": "g4qauxTy1oOn"
      },
      "source": [
        "\n",
        "\n",
        " \n",
        "# Transformata Radona"
      ]
    },
    {
      "cell_type": "code",
      "metadata": {
        "id": "wBMVZE3h1sCp",
        "colab": {
          "base_uri": "https://localhost:8080/",
          "height": 329,
          "referenced_widgets": [
            "b889b97f407a43c8b959e749346646c1",
            "cbf4545408474151b3583f231ca8f4cf",
            "8a866f98bca04b36ba11abd8d4814034",
            "0dd839245e184c3a951beadbbec72d20",
            "21be1c487cf54de1a3e6c7937ca204e9",
            "4b49c4d3bc8e4b70b14aca57d812d80e",
            "d60d316bfd3f4dfaab55e302a1033388",
            "ccea9aef302d4bf4923319489f1a0c4d",
            "dd5e55afd5774b29958991199d8e29fb",
            "7909bfb910dd4905b8c547f822732d4d",
            "4ae2d63efaf74e739c6e839fb25ca4f5",
            "1db06547e5e94dc5b86dfd3f57e88cce",
            "6fab7225a6684e9ab2a555e8b78c1ea8",
            "dc249a5bd161465fa0e49564f8bce736",
            "91142cc33f874cf08440e4153e448653",
            "58d80321dc3a4eb0bd7ac99c6066095e",
            "ee2d754142744bb39c7f94710a6ad54f",
            "b0653d6ea8ae4153916b01302efd694d",
            "70b3d1b7c2224dfa836f560e440d92d5",
            "d5647856bca54aa693e63bdbaaba70d4",
            "36c3ee2d633c43e6ab890c77faf7f14b",
            "4f78235e04114a4e8249b8fa95f63d00",
            "ca054c7a913246ac96ab3a88bf80f4f9",
            "f3c8b0795140438988d8cca602131bb9",
            "6334241e36854db6a33e469528e3c7ca"
          ]
        },
        "outputId": "074c609e-9e08-4ded-869f-9579602236aa"
      },
      "source": [
        "start()"
      ],
      "execution_count": 57,
      "outputs": [
        {
          "output_type": "display_data",
          "data": {
            "application/vnd.jupyter.widget-view+json": {
              "model_id": "b889b97f407a43c8b959e749346646c1",
              "version_minor": 0,
              "version_major": 2
            },
            "text/plain": [
              "FileUpload(value={}, description='Upload jpg or dcm file')"
            ]
          },
          "metadata": {
            "tags": []
          }
        },
        {
          "output_type": "display_data",
          "data": {
            "application/vnd.jupyter.widget-view+json": {
              "model_id": "0dd839245e184c3a951beadbbec72d20",
              "version_minor": 0,
              "version_major": 2
            },
            "text/plain": [
              "Checkbox(value=False, description='Filtrowanie odwrotnej transformaty', indent=False)"
            ]
          },
          "metadata": {
            "tags": []
          }
        },
        {
          "output_type": "display_data",
          "data": {
            "application/vnd.jupyter.widget-view+json": {
              "model_id": "d60d316bfd3f4dfaab55e302a1033388",
              "version_minor": 0,
              "version_major": 2
            },
            "text/plain": [
              "Checkbox(value=True, description='Pokazywnie kroków', indent=False)"
            ]
          },
          "metadata": {
            "tags": []
          }
        },
        {
          "output_type": "display_data",
          "data": {
            "application/vnd.jupyter.widget-view+json": {
              "model_id": "7909bfb910dd4905b8c547f822732d4d",
              "version_minor": 0,
              "version_major": 2
            },
            "text/plain": [
              "Textarea(value='1', description='Krok detektora:', style=DescriptionStyle(description_width='initial'))"
            ]
          },
          "metadata": {
            "tags": []
          }
        },
        {
          "output_type": "display_data",
          "data": {
            "application/vnd.jupyter.widget-view+json": {
              "model_id": "6fab7225a6684e9ab2a555e8b78c1ea8",
              "version_minor": 0,
              "version_major": 2
            },
            "text/plain": [
              "Textarea(value='180', description='Rozpietosc katowa:', style=DescriptionStyle(description_width='initial'))"
            ]
          },
          "metadata": {
            "tags": []
          }
        },
        {
          "output_type": "display_data",
          "data": {
            "application/vnd.jupyter.widget-view+json": {
              "model_id": "58d80321dc3a4eb0bd7ac99c6066095e",
              "version_minor": 0,
              "version_major": 2
            },
            "text/plain": [
              "Textarea(value='180', description='Ilość detektorów:', style=DescriptionStyle(description_width='initial'))"
            ]
          },
          "metadata": {
            "tags": []
          }
        },
        {
          "output_type": "display_data",
          "data": {
            "application/vnd.jupyter.widget-view+json": {
              "model_id": "70b3d1b7c2224dfa836f560e440d92d5",
              "version_minor": 0,
              "version_major": 2
            },
            "text/plain": [
              "Button(description='Rozpocznij', style=ButtonStyle())"
            ]
          },
          "metadata": {
            "tags": []
          }
        },
        {
          "output_type": "display_data",
          "data": {
            "application/vnd.jupyter.widget-view+json": {
              "model_id": "4f78235e04114a4e8249b8fa95f63d00",
              "version_minor": 0,
              "version_major": 2
            },
            "text/plain": [
              "Output()"
            ]
          },
          "metadata": {
            "tags": []
          }
        },
        {
          "output_type": "display_data",
          "data": {
            "application/vnd.jupyter.widget-view+json": {
              "model_id": "f3c8b0795140438988d8cca602131bb9",
              "version_minor": 0,
              "version_major": 2
            },
            "text/plain": [
              "Output()"
            ]
          },
          "metadata": {
            "tags": []
          }
        }
      ]
    },
    {
      "cell_type": "markdown",
      "metadata": {
        "id": "ZfPUiMfr8Ddq"
      },
      "source": [
        "# Obsługa Dicom"
      ]
    },
    {
      "cell_type": "code",
      "metadata": {
        "colab": {
          "base_uri": "https://localhost:8080/",
          "height": 908,
          "referenced_widgets": [
            "e80487fba9974b8faecbca1ce93daf9e",
            "aae0fc39a4e545fb8953d056ae813905",
            "ab81addf43ad4d68852ee2ec29db22f8",
            "ae99d1e6c9e14cf7b16f8b148824933a",
            "c97e98b745754b1d9423e20597c0e0ad",
            "7951f18993724030ad0ab0330ef9c965",
            "ed0cf653d91b45a0bbdb7310ce239a53",
            "21a08ecef90b42f8b09b39845471678c",
            "2bf6bc2eb18f47e0bf1970ad74db9745",
            "1467998d0b494832b4dc3c70160ce265",
            "ebbf9982ed6e496aa88e774c99c47cdb",
            "735865b42e50445898b257d01ade4bde",
            "4342c772ab8342e4bac43d1fd18a3f4a",
            "2f793626d6c84bf681a7dabbee89b4c0",
            "32633aafb94c48dc883c92ff3262644f",
            "897f0a10db044b7f9dd5d8f94cb58d43",
            "6f9ddfef28f84c22aa6be1f15d2b96b9",
            "c39e7c4f2d5b44f4a144756dacd92ed4",
            "c403de14fc9a4fc0accfbb462a91f10f",
            "7e96729040144fab90304bda7d416142",
            "a660cfab28524f0ea6fb83629dc3038f",
            "30f76bb2033040d989c96c35a5711ee9",
            "7163c397224f4b8bb01c3efca9275450",
            "10dff9ccc90447d89043616fa1e8d381",
            "0bacb235d35c43b3a785dbec6b2db170",
            "f468979fef05437aa05419bb170527f9",
            "f05c207627724477b039efd4a71f92ba",
            "b1d3daa0b45748dabd9a8cab70e07607",
            "3998a47f41894846932da9eafd900b8d",
            "d60b5250274a430aa9d39976e4a5e2c0",
            "ddfd2534d82f40b888e6f95be385b1dc",
            "786db1629a85408f9872bedb379e4c0e",
            "d3e564481e3e4b288d10ba348ae35a6f",
            "404a6084f43c48a79acdfc49177c736f",
            "7b0c085f420a4a8faa85f103e758a5a3",
            "32d813351ea74bf6babeafa527bc80a3",
            "97aa1d81d7b44a6db1194fb2ebcc2388",
            "534075b998444f9d966651c469698a60",
            "64f323c02524499db4137c2108a120c8",
            "b4c3f57a21cd40ddaa02cd398b40da6d"
          ]
        },
        "id": "r-fjfaJJ8G0j",
        "outputId": "35a4ab8f-1df9-49ed-b210-e9731f50b8c2"
      },
      "source": [
        "start2()"
      ],
      "execution_count": 30,
      "outputs": [
        {
          "output_type": "display_data",
          "data": {
            "application/vnd.jupyter.widget-view+json": {
              "model_id": "e80487fba9974b8faecbca1ce93daf9e",
              "version_minor": 0,
              "version_major": 2
            },
            "text/plain": [
              "Button(description='Click to Read', style=ButtonStyle())"
            ]
          },
          "metadata": {
            "tags": []
          }
        },
        {
          "output_type": "display_data",
          "data": {
            "application/vnd.jupyter.widget-view+json": {
              "model_id": "ae99d1e6c9e14cf7b16f8b148824933a",
              "version_minor": 0,
              "version_major": 2
            },
            "text/plain": [
              "Output()"
            ]
          },
          "metadata": {
            "tags": []
          }
        },
        {
          "output_type": "display_data",
          "data": {
            "application/vnd.jupyter.widget-view+json": {
              "model_id": "7951f18993724030ad0ab0330ef9c965",
              "version_minor": 0,
              "version_major": 2
            },
            "text/plain": [
              "Textarea(value='', description='Nazwa pliku:', placeholder='Wpisz nazwe pliku', style=DescriptionStyle(descrip…"
            ]
          },
          "metadata": {
            "tags": []
          }
        },
        {
          "output_type": "display_data",
          "data": {
            "application/vnd.jupyter.widget-view+json": {
              "model_id": "2bf6bc2eb18f47e0bf1970ad74db9745",
              "version_minor": 0,
              "version_major": 2
            },
            "text/plain": [
              "Textarea(value='', description='ID:', placeholder='Wpisz ID pacjenta', style=DescriptionStyle(description_widt…"
            ]
          },
          "metadata": {
            "tags": []
          }
        },
        {
          "output_type": "display_data",
          "data": {
            "application/vnd.jupyter.widget-view+json": {
              "model_id": "735865b42e50445898b257d01ade4bde",
              "version_minor": 0,
              "version_major": 2
            },
            "text/plain": [
              "Textarea(value='', description='Imię:', placeholder='Wpisz imię', style=DescriptionStyle(description_width='in…"
            ]
          },
          "metadata": {
            "tags": []
          }
        },
        {
          "output_type": "display_data",
          "data": {
            "application/vnd.jupyter.widget-view+json": {
              "model_id": "32633aafb94c48dc883c92ff3262644f",
              "version_minor": 0,
              "version_major": 2
            },
            "text/plain": [
              "Textarea(value='', description='Nazwisko:', placeholder='Wpisz nazwisko', style=DescriptionStyle(description_w…"
            ]
          },
          "metadata": {
            "tags": []
          }
        },
        {
          "output_type": "display_data",
          "data": {
            "application/vnd.jupyter.widget-view+json": {
              "model_id": "c39e7c4f2d5b44f4a144756dacd92ed4",
              "version_minor": 0,
              "version_major": 2
            },
            "text/plain": [
              "Textarea(value='', description='Płeć:', placeholder='Wpisz płeć', style=DescriptionStyle(description_width='in…"
            ]
          },
          "metadata": {
            "tags": []
          }
        },
        {
          "output_type": "display_data",
          "data": {
            "application/vnd.jupyter.widget-view+json": {
              "model_id": "a660cfab28524f0ea6fb83629dc3038f",
              "version_minor": 0,
              "version_major": 2
            },
            "text/plain": [
              "Textarea(value='', description='Data urodzenia:', placeholder='Wpisz date urodzenia', style=DescriptionStyle(d…"
            ]
          },
          "metadata": {
            "tags": []
          }
        },
        {
          "output_type": "display_data",
          "data": {
            "application/vnd.jupyter.widget-view+json": {
              "model_id": "10dff9ccc90447d89043616fa1e8d381",
              "version_minor": 0,
              "version_major": 2
            },
            "text/plain": [
              "Textarea(value='', description='Data badania:', placeholder='Wpisz date badania', style=DescriptionStyle(descr…"
            ]
          },
          "metadata": {
            "tags": []
          }
        },
        {
          "output_type": "display_data",
          "data": {
            "application/vnd.jupyter.widget-view+json": {
              "model_id": "f05c207627724477b039efd4a71f92ba",
              "version_minor": 0,
              "version_major": 2
            },
            "text/plain": [
              "Textarea(value='', description='Komentarz:', placeholder='Wpisz komentarz', style=DescriptionStyle(description…"
            ]
          },
          "metadata": {
            "tags": []
          }
        },
        {
          "output_type": "display_data",
          "data": {
            "application/vnd.jupyter.widget-view+json": {
              "model_id": "d60b5250274a430aa9d39976e4a5e2c0",
              "version_minor": 0,
              "version_major": 2
            },
            "text/plain": [
              "Checkbox(value=False, description='Zapisz zdjęcie', indent=False)"
            ]
          },
          "metadata": {
            "tags": []
          }
        },
        {
          "output_type": "display_data",
          "data": {
            "application/vnd.jupyter.widget-view+json": {
              "model_id": "d3e564481e3e4b288d10ba348ae35a6f",
              "version_minor": 0,
              "version_major": 2
            },
            "text/plain": [
              "Checkbox(value=False, description='Nadpisz plik', indent=False)"
            ]
          },
          "metadata": {
            "tags": []
          }
        },
        {
          "output_type": "display_data",
          "data": {
            "application/vnd.jupyter.widget-view+json": {
              "model_id": "32d813351ea74bf6babeafa527bc80a3",
              "version_minor": 0,
              "version_major": 2
            },
            "text/plain": [
              "Button(description='Click to Save', style=ButtonStyle())"
            ]
          },
          "metadata": {
            "tags": []
          }
        },
        {
          "output_type": "display_data",
          "data": {
            "application/vnd.jupyter.widget-view+json": {
              "model_id": "64f323c02524499db4137c2108a120c8",
              "version_minor": 0,
              "version_major": 2
            },
            "text/plain": [
              "Output()"
            ]
          },
          "metadata": {
            "tags": []
          }
        },
        {
          "output_type": "display_data",
          "data": {
            "image/png": "[encoded data removed]",
            "text/plain": [
              "<Figure size 432x288 with 1 Axes>"
            ]
          },
          "metadata": {
            "tags": [],
            "needs_background": "light"
          }
        }
      ]
    },
    {
      "cell_type": "code",
      "metadata": {
        "id": "K9Gd032qxY6I",
        "colab": {
          "base_uri": "https://localhost:8080/"
        },
        "outputId": "8ce690c8-4f03-424d-c5d0-f8350b42ea87"
      },
      "source": [
        "%cd"
      ],
      "execution_count": null,
      "outputs": [
        {
          "output_type": "stream",
          "text": [
            "/root\n"
          ],
          "name": "stdout"
        }
      ]
    }
  ]
}
